{
 "cells": [
  {
   "cell_type": "markdown",
   "metadata": {
    "id": "aUI02UFXY5lZ"
   },
   "source": [
    "# Архитектура RNN. Классификация текста.\n",
    "\n",
    "Привет! В это семинаре мы познакомимся с задачей классификации текста, на примере поиска тематики новости, а также с двумя из основных архитектур рекуррентных нейросетей – RNN и GRU.\n",
    "\n",
    "Нам потребуется одна библиотека от `HuggingFace🤗` под названием `datasets`. Она содержит большое число датасетов, которые используются в NLP."
   ]
  },
  {
   "cell_type": "code",
   "execution_count": 4,
   "metadata": {
    "ExecuteTime": {
     "end_time": "2021-10-09T08:22:10.909467Z",
     "start_time": "2021-10-09T08:22:10.905467Z"
    },
    "id": "4eSlBJXbpNhH"
   },
   "outputs": [],
   "source": [
    "#!pip install datasets"
   ]
  },
  {
   "cell_type": "code",
   "execution_count": 1,
   "metadata": {
    "ExecuteTime": {
     "end_time": "2021-10-09T08:23:27.683970Z",
     "start_time": "2021-10-09T08:23:22.686493Z"
    },
    "id": "gwNeXLCXr4ue"
   },
   "outputs": [],
   "source": [
    "import random\n",
    "import numpy as np\n",
    "\n",
    "import nltk\n",
    "import gensim.downloader as api\n",
    "\n",
    "import torch\n",
    "import torch.nn as nn\n",
    "import datasets"
   ]
  },
  {
   "cell_type": "code",
   "execution_count": 2,
   "metadata": {
    "ExecuteTime": {
     "end_time": "2021-10-09T08:34:11.226542Z",
     "start_time": "2021-10-09T08:34:11.209541Z"
    },
    "id": "IBGF3mNQKAgN"
   },
   "outputs": [],
   "source": [
    "# За детерминизм!\n",
    "SEED = 0xDEAD\n",
    "random.seed(SEED)\n",
    "np.random.seed(SEED)\n",
    "torch.random.manual_seed(SEED)\n",
    "torch.cuda.random.manual_seed_all(SEED)"
   ]
  },
  {
   "cell_type": "markdown",
   "metadata": {
    "id": "YX-nNNuqZ9GN"
   },
   "source": [
    "Загрузим датасет новостей: `AgNews`. В нем разделены тексты на 4 темы: `World`, `Sports`, `Business`, `Sci/Tech`. Посмотрим на структуру датасета и на примеры текстов:"
   ]
  },
  {
   "cell_type": "code",
   "execution_count": 3,
   "metadata": {
    "ExecuteTime": {
     "end_time": "2021-10-09T08:34:37.602227Z",
     "start_time": "2021-10-09T08:34:36.086654Z"
    },
    "id": "_LREB3dpscnH"
   },
   "outputs": [
    {
     "name": "stderr",
     "output_type": "stream",
     "text": [
      "Using custom data configuration default\n",
      "Reusing dataset ag_news (C:\\Users\\BIT\\.cache\\huggingface\\datasets\\ag_news\\default\\0.0.0\\bc2bcb40336ace1a0374767fc29bb0296cdaf8a6da7298436239c54d79180548)\n"
     ]
    },
    {
     "data": {
      "application/vnd.jupyter.widget-view+json": {
       "model_id": "1dc4fc42750a49e2b45717ff1dacf7c4",
       "version_major": 2,
       "version_minor": 0
      },
      "text/plain": [
       "  0%|          | 0/2 [00:00<?, ?it/s]"
      ]
     },
     "metadata": {},
     "output_type": "display_data"
    },
    {
     "data": {
      "text/plain": [
       "Dataset({\n",
       "    features: ['text', 'label'],\n",
       "    num_rows: 120000\n",
       "})"
      ]
     },
     "execution_count": 3,
     "metadata": {},
     "output_type": "execute_result"
    }
   ],
   "source": [
    "dataset = datasets.load_dataset(\"ag_news\")\n",
    "dataset[\"train\"]"
   ]
  },
  {
   "cell_type": "code",
   "execution_count": 9,
   "metadata": {
    "ExecuteTime": {
     "end_time": "2021-10-09T08:39:20.208614Z",
     "start_time": "2021-10-09T08:39:20.191615Z"
    },
    "id": "-YysP5HpsiBX"
   },
   "outputs": [
    {
     "data": {
      "text/plain": [
       "{'text': \"Wall St. Bears Claw Back Into the Black (Reuters) Reuters - Short-sellers, Wall Street's dwindling\\\\band of ultra-cynics, are seeing green again.\",\n",
       " 'label': 2}"
      ]
     },
     "execution_count": 9,
     "metadata": {},
     "output_type": "execute_result"
    }
   ],
   "source": [
    "dataset[\"train\"][0]"
   ]
  },
  {
   "cell_type": "markdown",
   "metadata": {
    "id": "9QK1tDYKaTJa"
   },
   "source": [
    "В `dataset` находятся `train` и `test` части датасета."
   ]
  },
  {
   "cell_type": "code",
   "execution_count": 5,
   "metadata": {
    "ExecuteTime": {
     "end_time": "2021-10-09T08:34:44.534852Z",
     "start_time": "2021-10-09T08:34:44.528851Z"
    },
    "id": "wjEB-Yv09AQo"
   },
   "outputs": [
    {
     "data": {
      "text/plain": [
       "DatasetDict({\n",
       "    train: Dataset({\n",
       "        features: ['text', 'label'],\n",
       "        num_rows: 120000\n",
       "    })\n",
       "    test: Dataset({\n",
       "        features: ['text', 'label'],\n",
       "        num_rows: 7600\n",
       "    })\n",
       "})"
      ]
     },
     "execution_count": 5,
     "metadata": {},
     "output_type": "execute_result"
    }
   ],
   "source": [
    "dataset"
   ]
  },
  {
   "cell_type": "markdown",
   "metadata": {
    "id": "SmSIXBJPaegW"
   },
   "source": [
    "Чтобы превращать текст из набора слов в набор векторов мы будем использовать предобученные эмбеддинги. Посмотрим на их список и выберем один из них."
   ]
  },
  {
   "cell_type": "code",
   "execution_count": 6,
   "metadata": {
    "ExecuteTime": {
     "end_time": "2021-10-09T08:35:47.348432Z",
     "start_time": "2021-10-09T08:35:47.044372Z"
    },
    "id": "FGW4jSiswVDy"
   },
   "outputs": [
    {
     "name": "stdout",
     "output_type": "stream",
     "text": [
      "fasttext-wiki-news-subwords-300\n",
      "conceptnet-numberbatch-17-06-300\n",
      "word2vec-ruscorpora-300\n",
      "word2vec-google-news-300\n",
      "glove-wiki-gigaword-50\n",
      "glove-wiki-gigaword-100\n",
      "glove-wiki-gigaword-200\n",
      "glove-wiki-gigaword-300\n",
      "glove-twitter-25\n",
      "glove-twitter-50\n",
      "glove-twitter-100\n",
      "glove-twitter-200\n",
      "__testing_word2vec-matrix-synopsis\n"
     ]
    }
   ],
   "source": [
    "print(\"\\n\".join(api.info()['models'].keys()))"
   ]
  },
  {
   "cell_type": "code",
   "execution_count": 7,
   "metadata": {
    "ExecuteTime": {
     "end_time": "2021-10-09T08:38:24.064618Z",
     "start_time": "2021-10-09T08:35:48.187576Z"
    },
    "id": "xd1RzPKhwC3q"
   },
   "outputs": [
    {
     "name": "stdout",
     "output_type": "stream",
     "text": [
      "[==================================================] 100.0% 199.5/199.5MB downloaded\n"
     ]
    }
   ],
   "source": [
    "word2vec = api.load(\"glove-twitter-50\")"
   ]
  },
  {
   "cell_type": "markdown",
   "metadata": {
    "id": "RAIznT0Kaue8"
   },
   "source": [
    "Токенезируем наш текст с помощью NLTK."
   ]
  },
  {
   "cell_type": "code",
   "execution_count": 10,
   "metadata": {
    "ExecuteTime": {
     "end_time": "2021-10-09T08:39:37.048664Z",
     "start_time": "2021-10-09T08:39:23.821666Z"
    },
    "id": "F6k91UgcAQNz"
   },
   "outputs": [
    {
     "data": {
      "application/vnd.jupyter.widget-view+json": {
       "model_id": "891284dd7f1447f481cc29170b52745c",
       "version_major": 2,
       "version_minor": 0
      },
      "text/plain": [
       "  0%|          | 0/120000 [00:00<?, ?ex/s]"
      ]
     },
     "metadata": {},
     "output_type": "display_data"
    },
    {
     "data": {
      "application/vnd.jupyter.widget-view+json": {
       "model_id": "800f09a29bbb4f328834c69f233e5ef4",
       "version_major": 2,
       "version_minor": 0
      },
      "text/plain": [
       "  0%|          | 0/7600 [00:00<?, ?ex/s]"
      ]
     },
     "metadata": {},
     "output_type": "display_data"
    }
   ],
   "source": [
    "MAX_LENGTH=128\n",
    "\n",
    "tokenizer = nltk.WordPunctTokenizer()\n",
    "\n",
    "dataset = dataset.map( # обращаемся к dataset (train и test)\n",
    "    lambda item: {\n",
    "        \"tokenized\": tokenizer.tokenize(item[\"text\"])[:MAX_LENGTH] # создаём tokenized для каждого словаря (text, label)\n",
    "    }\n",
    ")"
   ]
  },
  {
   "cell_type": "code",
   "execution_count": 11,
   "metadata": {
    "ExecuteTime": {
     "end_time": "2021-10-09T08:40:01.164937Z",
     "start_time": "2021-10-09T08:40:01.149942Z"
    }
   },
   "outputs": [
    {
     "data": {
      "text/plain": [
       "DatasetDict({\n",
       "    train: Dataset({\n",
       "        features: ['text', 'label', 'tokenized'],\n",
       "        num_rows: 120000\n",
       "    })\n",
       "    test: Dataset({\n",
       "        features: ['text', 'label', 'tokenized'],\n",
       "        num_rows: 7600\n",
       "    })\n",
       "})"
      ]
     },
     "execution_count": 11,
     "metadata": {},
     "output_type": "execute_result"
    }
   ],
   "source": [
    "dataset"
   ]
  },
  {
   "cell_type": "code",
   "execution_count": 16,
   "metadata": {
    "ExecuteTime": {
     "end_time": "2021-10-09T08:42:58.872115Z",
     "start_time": "2021-10-09T08:42:51.008113Z"
    }
   },
   "outputs": [
    {
     "data": {
      "text/plain": [
       "['Wall',\n",
       " 'St',\n",
       " '.',\n",
       " 'Bears',\n",
       " 'Claw',\n",
       " 'Back',\n",
       " 'Into',\n",
       " 'the',\n",
       " 'Black',\n",
       " '(',\n",
       " 'Reuters',\n",
       " ')',\n",
       " 'Reuters',\n",
       " '-',\n",
       " 'Short',\n",
       " '-',\n",
       " 'sellers',\n",
       " ',',\n",
       " 'Wall',\n",
       " 'Street',\n",
       " \"'\",\n",
       " 's',\n",
       " 'dwindling',\n",
       " '\\\\',\n",
       " 'band',\n",
       " 'of',\n",
       " 'ultra',\n",
       " '-',\n",
       " 'cynics',\n",
       " ',',\n",
       " 'are',\n",
       " 'seeing',\n",
       " 'green',\n",
       " 'again',\n",
       " '.']"
      ]
     },
     "execution_count": 16,
     "metadata": {},
     "output_type": "execute_result"
    }
   ],
   "source": [
    "dataset['train']['tokenized'][0]"
   ]
  },
  {
   "cell_type": "markdown",
   "metadata": {
    "id": "aqrtz1bDk2Ws"
   },
   "source": [
    "Создадим мапинг из токенов в индексы"
   ]
  },
  {
   "cell_type": "code",
   "execution_count": 17,
   "metadata": {
    "ExecuteTime": {
     "end_time": "2021-10-09T08:45:07.121108Z",
     "start_time": "2021-10-09T08:45:06.790104Z"
    },
    "id": "SMDWoNeEArA6"
   },
   "outputs": [],
   "source": [
    "word2idx = {word: idx for idx, word in enumerate(word2vec.index2word)} # ключ - слово, значение - индекс\n",
    "# word2vec.index2word - по индексам возвращает слово (лист слов)\n",
    "# word2idx - по слову возвращает индекс"
   ]
  },
  {
   "cell_type": "code",
   "execution_count": 20,
   "metadata": {
    "ExecuteTime": {
     "end_time": "2021-10-09T08:45:53.814476Z",
     "start_time": "2021-10-09T08:45:53.768478Z"
    }
   },
   "outputs": [
    {
     "data": {
      "text/plain": [
       "{'<user>': 0,\n",
       " '.': 1,\n",
       " ':': 2,\n",
       " 'rt': 3,\n",
       " ',': 4,\n",
       " '<repeat>': 5,\n",
       " '<hashtag>': 6,\n",
       " '<number>': 7,\n",
       " '<url>': 8,\n",
       " '!': 9,\n",
       " 'i': 10,\n",
       " 'a': 11,\n",
       " '\"': 12,\n",
       " 'the': 13,\n",
       " '?': 14,\n",
       " 'you': 15,\n",
       " 'to': 16,\n",
       " '(': 17,\n",
       " '<allcaps>': 18,\n",
       " '<elong>': 19,\n",
       " ')': 20,\n",
       " 'me': 21,\n",
       " 'de': 22,\n",
       " '<smile>': 23,\n",
       " '！': 24,\n",
       " 'que': 25,\n",
       " 'and': 26,\n",
       " '。': 27,\n",
       " '-': 28,\n",
       " 'my': 29,\n",
       " 'no': 30,\n",
       " '、': 31,\n",
       " 'is': 32,\n",
       " 'it': 33,\n",
       " '…': 34,\n",
       " 'in': 35,\n",
       " 'n': 36,\n",
       " 'for': 37,\n",
       " '/': 38,\n",
       " 'of': 39,\n",
       " 'la': 40,\n",
       " \"'s\": 41,\n",
       " '*': 42,\n",
       " 'do': 43,\n",
       " \"n't\": 44,\n",
       " 'that': 45,\n",
       " 'on': 46,\n",
       " 'y': 47,\n",
       " \"'\": 48,\n",
       " 'e': 49,\n",
       " 'o': 50,\n",
       " 'u': 51,\n",
       " 'en': 52,\n",
       " 'this': 53,\n",
       " 'el': 54,\n",
       " 'so': 55,\n",
       " 'be': 56,\n",
       " \"'m\": 57,\n",
       " 'with': 58,\n",
       " 'just': 59,\n",
       " '>': 60,\n",
       " 'your': 61,\n",
       " '^': 62,\n",
       " 'like': 63,\n",
       " 'have': 64,\n",
       " 'te': 65,\n",
       " 'at': 66,\n",
       " '？': 67,\n",
       " 'love': 68,\n",
       " 'se': 69,\n",
       " 'are': 70,\n",
       " '<': 71,\n",
       " 'm': 72,\n",
       " 'r': 73,\n",
       " 'if': 74,\n",
       " 'all': 75,\n",
       " 'b': 76,\n",
       " '・': 77,\n",
       " 'not': 78,\n",
       " 'but': 79,\n",
       " 'we': 80,\n",
       " 'es': 81,\n",
       " 'ya': 82,\n",
       " '&': 83,\n",
       " 'follow': 84,\n",
       " 'up': 85,\n",
       " 'what': 86,\n",
       " 'get': 87,\n",
       " 'lol': 88,\n",
       " 'un': 89,\n",
       " '♥': 90,\n",
       " 'lo': 91,\n",
       " 'when': 92,\n",
       " 'was': 93,\n",
       " '“': 94,\n",
       " '”': 95,\n",
       " 'one': 96,\n",
       " 'por': 97,\n",
       " 'si': 98,\n",
       " 'out': 99,\n",
       " '_': 100,\n",
       " 'mi': 101,\n",
       " 'can': 102,\n",
       " '<sadface>': 103,\n",
       " 'من': 104,\n",
       " '♡': 105,\n",
       " '´': 106,\n",
       " 'he': 107,\n",
       " 'con': 108,\n",
       " 'they': 109,\n",
       " 'now': 110,\n",
       " 'go': 111,\n",
       " '،': 112,\n",
       " 'para': 113,\n",
       " 'los': 114,\n",
       " 'know': 115,\n",
       " 'haha': 116,\n",
       " 'good': 117,\n",
       " 'tu': 118,\n",
       " 'back': 119,\n",
       " '~': 120,\n",
       " 'about': 121,\n",
       " 'new': 122,\n",
       " ';': 123,\n",
       " 'as': 124,\n",
       " 'day': 125,\n",
       " 'how': 126,\n",
       " 'who': 127,\n",
       " 'will': 128,\n",
       " 'want': 129,\n",
       " 'people': 130,\n",
       " 'yo': 131,\n",
       " 'eu': 132,\n",
       " 'from': 133,\n",
       " 'di': 134,\n",
       " 'time': 135,\n",
       " '<heart>': 136,\n",
       " 's': 137,\n",
       " 'aku': 138,\n",
       " 'da': 139,\n",
       " \"'re\": 140,\n",
       " '<lolface>': 141,\n",
       " 'una': 142,\n",
       " 'got': 143,\n",
       " 'las': 144,\n",
       " 'more': 145,\n",
       " 'x': 146,\n",
       " 'she': 147,\n",
       " 'today': 148,\n",
       " '（': 149,\n",
       " '>>': 150,\n",
       " 'k': 151,\n",
       " 'by': 152,\n",
       " 'or': 153,\n",
       " 'في': 154,\n",
       " '･': 155,\n",
       " 'too': 156,\n",
       " 'le': 157,\n",
       " 'é': 158,\n",
       " '|': 159,\n",
       " '[': 160,\n",
       " '）': 161,\n",
       " ']': 162,\n",
       " 'see': 163,\n",
       " 'why': 164,\n",
       " 'yg': 165,\n",
       " 'ca': 166,\n",
       " 'como': 167,\n",
       " 'her': 168,\n",
       " '—': 169,\n",
       " 'q': 170,\n",
       " 'need': 171,\n",
       " 'an': 172,\n",
       " 'na': 173,\n",
       " '笑': 174,\n",
       " 'there': 175,\n",
       " 'ω': 176,\n",
       " 'happy': 177,\n",
       " 'im': 178,\n",
       " 'mas': 179,\n",
       " 'je': 180,\n",
       " 'life': 181,\n",
       " 'really': 182,\n",
       " 'make': 183,\n",
       " 'yang': 184,\n",
       " 'shit': 185,\n",
       " 'think': 186,\n",
       " 't': 187,\n",
       " '❤': 188,\n",
       " 'não': 189,\n",
       " 'never': 190,\n",
       " 'some': 191,\n",
       " '～': 192,\n",
       " 'oh': 193,\n",
       " '★': 194,\n",
       " 'did': 195,\n",
       " 'would': 196,\n",
       " 'del': 197,\n",
       " '`': 198,\n",
       " 'd': 199,\n",
       " 'please': 200,\n",
       " 'via': 201,\n",
       " 'much': 202,\n",
       " 'fuck': 203,\n",
       " 'al': 204,\n",
       " 'dia': 205,\n",
       " '$': 206,\n",
       " 'و': 207,\n",
       " 'right': 208,\n",
       " 'best': 209,\n",
       " 'c': 210,\n",
       " 'going': 211,\n",
       " 'الله': 212,\n",
       " 'pero': 213,\n",
       " 'only': 214,\n",
       " 'has': 215,\n",
       " '♪': 216,\n",
       " \"'ll\": 217,\n",
       " 'twitter': 218,\n",
       " '=': 219,\n",
       " 'hahaha': 220,\n",
       " 'its': 221,\n",
       " 'nn': 222,\n",
       " '｀': 223,\n",
       " '¿': 224,\n",
       " 'am': 225,\n",
       " 'say': 226,\n",
       " '<neutralface>': 227,\n",
       " 'them': 228,\n",
       " 'here': 229,\n",
       " 'لا': 230,\n",
       " 'off': 231,\n",
       " 'still': 232,\n",
       " 'dan': 233,\n",
       " '+': 234,\n",
       " 'night': 235,\n",
       " 'w': 236,\n",
       " 'ada': 237,\n",
       " 'someone': 238,\n",
       " 'even': 239,\n",
       " 'then': 240,\n",
       " '☆': 241,\n",
       " 'ni': 242,\n",
       " 'come': 243,\n",
       " 'com': 244,\n",
       " 'always': 245,\n",
       " 'man': 246,\n",
       " \"'ve\": 247,\n",
       " 'been': 248,\n",
       " 'his': 249,\n",
       " 'itu': 250,\n",
       " 'على': 251,\n",
       " '-_-': 252,\n",
       " '☺': 253,\n",
       " 'over': 254,\n",
       " 'um': 255,\n",
       " 'ما': 256,\n",
       " 'hate': 257,\n",
       " 'girl': 258,\n",
       " 'ai': 259,\n",
       " 'had': 260,\n",
       " 'pra': 261,\n",
       " 'todo': 262,\n",
       " 'mais': 263,\n",
       " 'feel': 264,\n",
       " 'let': 265,\n",
       " 'ini': 266,\n",
       " 'because': 267,\n",
       " 'ﾟ': 268,\n",
       " 'thanks': 269,\n",
       " 'ah': 270,\n",
       " 'way': 271,\n",
       " 'ever': 272,\n",
       " 'look': 273,\n",
       " 'tweet': 274,\n",
       " 'followers': 275,\n",
       " 'should': 276,\n",
       " 'our': 277,\n",
       " 'xd': 278,\n",
       " 'aja': 279,\n",
       " 'esta': 280,\n",
       " 'school': 281,\n",
       " 'him': 282,\n",
       " 'ser': 283,\n",
       " 'take': 284,\n",
       " 'than': 285,\n",
       " 'video': 286,\n",
       " 'em': 287,\n",
       " 'last': 288,\n",
       " 'wanna': 289,\n",
       " 'does': 290,\n",
       " 'us': 291,\n",
       " 'miss': 292,\n",
       " 'l': 293,\n",
       " 'ga': 294,\n",
       " 'better': 295,\n",
       " 'well': 296,\n",
       " 'could': 297,\n",
       " '▽': 298,\n",
       " '%': 299,\n",
       " 'apa': 300,\n",
       " 'cuando': 301,\n",
       " 'team': 302,\n",
       " '✔': 303,\n",
       " '@': 304,\n",
       " 'ok': 305,\n",
       " '؟': 306,\n",
       " '•': 307,\n",
       " 'vida': 308,\n",
       " 'quiero': 309,\n",
       " 'les': 310,\n",
       " 'being': 311,\n",
       " 'real': 312,\n",
       " 'down': 313,\n",
       " 'kamu': 314,\n",
       " 'everyone': 315,\n",
       " 'gonna': 316,\n",
       " 'live': 317,\n",
       " 'tonight': 318,\n",
       " 'yes': 319,\n",
       " 'work': 320,\n",
       " 'ass': 321,\n",
       " 'retweet': 322,\n",
       " 'nada': 323,\n",
       " 'sama': 324,\n",
       " 'first': 325,\n",
       " '<<': 326,\n",
       " 'photo': 327,\n",
       " 'tomorrow': 328,\n",
       " 'where': 329,\n",
       " 'god': 330,\n",
       " 'son': 331,\n",
       " 'ke': 332,\n",
       " 'ta': 333,\n",
       " 'f': 334,\n",
       " 'home': 335,\n",
       " 'lagi': 336,\n",
       " 'thank': 337,\n",
       " 'birthday': 338,\n",
       " '█': 339,\n",
       " 'ha': 340,\n",
       " 'great': 341,\n",
       " 'lmao': 342,\n",
       " 'omg': 343,\n",
       " 'morning': 344,\n",
       " 'más': 345,\n",
       " 'mau': 346,\n",
       " 'baby': 347,\n",
       " 'dont': 348,\n",
       " '｡': 349,\n",
       " 'their': 350,\n",
       " 'p': 351,\n",
       " 'things': 352,\n",
       " 'game': 353,\n",
       " 'pas': 354,\n",
       " 'bad': 355,\n",
       " 'year': 356,\n",
       " 'yeah': 357,\n",
       " 'su': 358,\n",
       " 'bitch': 359,\n",
       " 'в': 360,\n",
       " 'stop': 361,\n",
       " 'hoy': 362,\n",
       " 'something': 363,\n",
       " 'meu': 364,\n",
       " 'tak': 365,\n",
       " 'gak': 366,\n",
       " 'world': 367,\n",
       " 'amor': 368,\n",
       " 'h': 369,\n",
       " '\\\\': 370,\n",
       " 'ver': 371,\n",
       " '；': 372,\n",
       " 'porque': 373,\n",
       " 'give': 374,\n",
       " 'these': 375,\n",
       " 'اللهم': 376,\n",
       " 'were': 377,\n",
       " 'hay': 378,\n",
       " 'sleep': 379,\n",
       " 'gue': 380,\n",
       " 'every': 381,\n",
       " 'friends': 382,\n",
       " 'uma': 383,\n",
       " 'tell': 384,\n",
       " 'amo': 385,\n",
       " 'vou': 386,\n",
       " 'bien': 387,\n",
       " '¡': 388,\n",
       " 'again': 389,\n",
       " '＾': 390,\n",
       " '／': 391,\n",
       " 'done': 392,\n",
       " 'after': 393,\n",
       " 'todos': 394,\n",
       " 'girls': 395,\n",
       " 'guys': 396,\n",
       " 'getting': 397,\n",
       " 'big': 398,\n",
       " 'wait': 399,\n",
       " 'justin': 400,\n",
       " 'eh': 401,\n",
       " '→': 402,\n",
       " 'kan': 403,\n",
       " 'kita': 404,\n",
       " 'jajaja': 405,\n",
       " 'wish': 406,\n",
       " 'said': 407,\n",
       " 'fucking': 408,\n",
       " 'show': 409,\n",
       " 'thing': 410,\n",
       " 'next': 411,\n",
       " 'você': 412,\n",
       " 'nos': 413,\n",
       " 'little': 414,\n",
       " 'tengo': 415,\n",
       " 'keep': 416,\n",
       " 'person': 417,\n",
       " \"''\": 418,\n",
       " '∀': 419,\n",
       " 'hope': 420,\n",
       " 'كل': 421,\n",
       " 'hey': 422,\n",
       " 'bisa': 423,\n",
       " 'free': 424,\n",
       " 'made': 425,\n",
       " 'foto': 426,\n",
       " 'va': 427,\n",
       " 'everything': 428,\n",
       " 'iya': 429,\n",
       " 'nigga': 430,\n",
       " 'eso': 431,\n",
       " 'et': 432,\n",
       " 'watch': 433,\n",
       " 'music': 434,\n",
       " 'week': 435,\n",
       " 'talk': 436,\n",
       " 'ne': 437,\n",
       " 'solo': 438,\n",
       " 'gente': 439,\n",
       " 'udah': 440,\n",
       " '：': 441,\n",
       " '--': 442,\n",
       " '＼': 443,\n",
       " 'mejor': 444,\n",
       " 'facebook': 445,\n",
       " 'ma': 446,\n",
       " 'v': 447,\n",
       " 'phone': 448,\n",
       " 'most': 449,\n",
       " 'same': 450,\n",
       " 'okay': 451,\n",
       " 'ik': 452,\n",
       " 'before': 453,\n",
       " 'minha': 454,\n",
       " 'days': 455,\n",
       " 'g': 456,\n",
       " 'ti': 457,\n",
       " 'damn': 458,\n",
       " 'nice': 459,\n",
       " 'voy': 460,\n",
       " 'vai': 461,\n",
       " 'call': 462,\n",
       " 'long': 463,\n",
       " 'tapi': 464,\n",
       " 'http': 465,\n",
       " 'sin': 466,\n",
       " 'nunca': 467,\n",
       " 'doing': 468,\n",
       " 'other': 469,\n",
       " 'find': 470,\n",
       " 'il': 471,\n",
       " 'sa': 472,\n",
       " 'sorry': 473,\n",
       " 'nya': 474,\n",
       " 'orang': 475,\n",
       " '°': 476,\n",
       " 'hard': 477,\n",
       " 'mean': 478,\n",
       " 'die': 479,\n",
       " 'اللي': 480,\n",
       " 'tem': 481,\n",
       " 'soy': 482,\n",
       " 'este': 483,\n",
       " 'kalo': 484,\n",
       " 'só': 485,\n",
       " 'th': 486,\n",
       " 'win': 487,\n",
       " 'nothing': 488,\n",
       " 'into': 489,\n",
       " 'face': 490,\n",
       " 'cute': 491,\n",
       " \"'d\": 492,\n",
       " 'gracias': 493,\n",
       " 'lah': 494,\n",
       " 'и': 495,\n",
       " 'any': 496,\n",
       " 'play': 497,\n",
       " '←': 498,\n",
       " 'ko': 499,\n",
       " 'text': 500,\n",
       " '⌣': 501,\n",
       " 'estoy': 502,\n",
       " 'tau': 503,\n",
       " 'ur': 504,\n",
       " 'buat': 505,\n",
       " '#': 506,\n",
       " 'cause': 507,\n",
       " 'я': 508,\n",
       " 'put': 509,\n",
       " 'kau': 510,\n",
       " 'siempre': 511,\n",
       " 'juga': 512,\n",
       " 'casa': 513,\n",
       " 'أن': 514,\n",
       " 'help': 515,\n",
       " 'start': 516,\n",
       " 'feliz': 517,\n",
       " 'old': 518,\n",
       " 'ir': 519,\n",
       " 'very': 520,\n",
       " 'care': 521,\n",
       " 'bir': 522,\n",
       " 'makes': 523,\n",
       " 'song': 524,\n",
       " 'check': 525,\n",
       " 'watching': 526,\n",
       " 'ahora': 527,\n",
       " 'jadi': 528,\n",
       " 'os': 529,\n",
       " 'may': 530,\n",
       " 'friend': 531,\n",
       " 'beautiful': 532,\n",
       " 'heart': 533,\n",
       " 'ka': 534,\n",
       " 'vc': 535,\n",
       " 'mundo': 536,\n",
       " 'на': 537,\n",
       " 'sure': 538,\n",
       " 'tan': 539,\n",
       " 'pretty': 540,\n",
       " 'aqui': 541,\n",
       " 'не': 542,\n",
       " 'house': 543,\n",
       " 'رتويت': 544,\n",
       " 'يا': 545,\n",
       " 'ja': 546,\n",
       " 'true': 547,\n",
       " 'muy': 548,\n",
       " 'away': 549,\n",
       " 'already': 550,\n",
       " 'actually': 551,\n",
       " 'believe': 552,\n",
       " 'try': 553,\n",
       " 'many': 554,\n",
       " 'mañana': 555,\n",
       " 'mis': 556,\n",
       " 'lu': 557,\n",
       " 'those': 558,\n",
       " 'hot': 559,\n",
       " 'qué': 560,\n",
       " 'mal': 561,\n",
       " 'عن': 562,\n",
       " 'though': 563,\n",
       " 'ask': 564,\n",
       " 'amazing': 565,\n",
       " 'bed': 566,\n",
       " '}': 567,\n",
       " 'two': 568,\n",
       " 'mom': 569,\n",
       " 'día': 570,\n",
       " 've': 571,\n",
       " 'dari': 572,\n",
       " 'gameinsight': 573,\n",
       " 'stay': 574,\n",
       " 'fun': 575,\n",
       " 'around': 576,\n",
       " 'van': 577,\n",
       " 'cont': 578,\n",
       " 'ready': 579,\n",
       " 'money': 580,\n",
       " 'bu': 581,\n",
       " 'funny': 582,\n",
       " 'cool': 583,\n",
       " 'hair': 584,\n",
       " 'à': 585,\n",
       " 'tho': 586,\n",
       " '{': 587,\n",
       " 'wo': 588,\n",
       " 'hi': 589,\n",
       " 'name': 590,\n",
       " 'tiene': 591,\n",
       " 'hahahaha': 592,\n",
       " 'pa': 593,\n",
       " 'algo': 594,\n",
       " 'gotta': 595,\n",
       " 'ولا': 596,\n",
       " 'boy': 597,\n",
       " 'another': 598,\n",
       " \"c'est\": 599,\n",
       " 'hari': 600,\n",
       " 'jajajaja': 601,\n",
       " 'having': 602,\n",
       " 'cara': 603,\n",
       " 'jaja': 604,\n",
       " 'dm': 605,\n",
       " 'looking': 606,\n",
       " 'top': 607,\n",
       " 'android': 608,\n",
       " 'dah': 609,\n",
       " 'wow': 610,\n",
       " '░': 611,\n",
       " 'eres': 612,\n",
       " 'ben': 613,\n",
       " 'must': 614,\n",
       " 'news': 615,\n",
       " 'met': 616,\n",
       " 'está': 617,\n",
       " 'nih': 618,\n",
       " 'family': 619,\n",
       " 'black': 620,\n",
       " 'thought': 621,\n",
       " 'nak': 622,\n",
       " 'super': 623,\n",
       " 'end': 624,\n",
       " 'hace': 625,\n",
       " 'remember': 626,\n",
       " 'ama': 627,\n",
       " 'party': 628,\n",
       " 'cant': 629,\n",
       " 'vamos': 630,\n",
       " 'anything': 631,\n",
       " 'anyone': 632,\n",
       " 'فولو': 633,\n",
       " 'perfect': 634,\n",
       " 'guy': 635,\n",
       " 'vez': 636,\n",
       " 'christmas': 637,\n",
       " 'dos': 638,\n",
       " 'bueno': 639,\n",
       " 'nao': 640,\n",
       " 'years': 641,\n",
       " 'vote': 642,\n",
       " 'dormir': 643,\n",
       " 'bro': 644,\n",
       " 'else': 645,\n",
       " 'quien': 646,\n",
       " 'untuk': 647,\n",
       " 'jangan': 648,\n",
       " 'myself': 649,\n",
       " 'head': 650,\n",
       " 'mind': 651,\n",
       " 'gua': 652,\n",
       " 'talking': 653,\n",
       " 'while': 654,\n",
       " 'dat': 655,\n",
       " 'food': 656,\n",
       " 'д': 657,\n",
       " 'coming': 658,\n",
       " 'wkwk': 659,\n",
       " 'trying': 660,\n",
       " 'saya': 661,\n",
       " 'mucho': 662,\n",
       " 'without': 663,\n",
       " 'wrong': 664,\n",
       " '’s': 665,\n",
       " 'baru': 666,\n",
       " '__': 667,\n",
       " 'hehe': 668,\n",
       " 'hacer': 669,\n",
       " 'lot': 670,\n",
       " 'followed': 671,\n",
       " 'crazy': 672,\n",
       " 'hell': 673,\n",
       " 'feeling': 674,\n",
       " 'des': 675,\n",
       " 'kok': 676,\n",
       " 'j': 677,\n",
       " 'stats': 678,\n",
       " \"j'\": 679,\n",
       " 'ان': 680,\n",
       " 'tweets': 681,\n",
       " 'non': 682,\n",
       " 'cosas': 683,\n",
       " 'era': 684,\n",
       " 'high': 685,\n",
       " 'niggas': 686,\n",
       " 'change': 687,\n",
       " 'movie': 688,\n",
       " 'xx': 689,\n",
       " 'mad': 690,\n",
       " 'sih': 691,\n",
       " 'sometimes': 692,\n",
       " 'deh': 693,\n",
       " 'allah': 694,\n",
       " 'through': 695,\n",
       " 'pour': 696,\n",
       " 'ela': 697,\n",
       " 'soon': 698,\n",
       " 'gone': 699,\n",
       " 'playing': 700,\n",
       " 'smile': 701,\n",
       " 'bukan': 702,\n",
       " 'tv': 703,\n",
       " 'fans': 704,\n",
       " 'hasta': 705,\n",
       " 'akan': 706,\n",
       " \"y'\": 707,\n",
       " 'looks': 708,\n",
       " 'isso': 709,\n",
       " '✌': 710,\n",
       " 'tired': 711,\n",
       " 'boys': 712,\n",
       " 'might': 713,\n",
       " 'dong': 714,\n",
       " 'lg': 715,\n",
       " 'use': 716,\n",
       " 'maybe': 717,\n",
       " 'until': 718,\n",
       " 'menos': 719,\n",
       " 'own': 720,\n",
       " 'dengan': 721,\n",
       " 'eat': 722,\n",
       " 'ou': 723,\n",
       " 'weekend': 724,\n",
       " '˘': 725,\n",
       " 'class': 726,\n",
       " 'ele': 727,\n",
       " 'harry': 728,\n",
       " 'iphone': 729,\n",
       " 'friday': 730,\n",
       " 'single': 731,\n",
       " 'ff': 732,\n",
       " 'awesome': 733,\n",
       " 'bout': 734,\n",
       " 'muito': 735,\n",
       " 'hoje': 736,\n",
       " '¬': 737,\n",
       " 'dios': 738,\n",
       " 'such': 739,\n",
       " 'estar': 740,\n",
       " 'já': 741,\n",
       " 'quando': 742,\n",
       " 'esa': 743,\n",
       " 'making': 744,\n",
       " '━': 745,\n",
       " 'times': 746,\n",
       " 'lmfao': 747,\n",
       " 'gw': 748,\n",
       " 'moment': 749,\n",
       " 'yet': 750,\n",
       " 'aw': 751,\n",
       " 'smh': 752,\n",
       " 'banget': 753,\n",
       " 'masih': 754,\n",
       " 'qui': 755,\n",
       " 'quem': 756,\n",
       " '–': 757,\n",
       " 'leave': 758,\n",
       " 'du': 759,\n",
       " 'une': 760,\n",
       " 'guess': 761,\n",
       " 'hit': 762,\n",
       " 'с': 763,\n",
       " 'pm': 764,\n",
       " 'since': 765,\n",
       " 'pues': 766,\n",
       " 'est': 767,\n",
       " 'job': 768,\n",
       " 'ﾉ': 769,\n",
       " 'mana': 770,\n",
       " 'bom': 771,\n",
       " 'siapa': 772,\n",
       " 'suka': 773,\n",
       " 'bieber': 774,\n",
       " 'mention': 775,\n",
       " 'lebih': 776,\n",
       " 'favorite': 777,\n",
       " 'bitches': 778,\n",
       " 'forever': 779,\n",
       " 'لي': 780,\n",
       " 'final': 781,\n",
       " 'read': 782,\n",
       " 'alguien': 783,\n",
       " 'open': 784,\n",
       " 'yourself': 785,\n",
       " 'ese': 786,\n",
       " 'che': 787,\n",
       " 'sex': 788,\n",
       " 'yaa': 789,\n",
       " 'car': 790,\n",
       " 'direction': 791,\n",
       " 'tidak': 792,\n",
       " 'seu': 793,\n",
       " 'gets': 794,\n",
       " 'left': 795,\n",
       " 're': 796,\n",
       " 'jam': 797,\n",
       " 'enough': 798,\n",
       " 'إلا': 799,\n",
       " 'once': 800,\n",
       " '’': 801,\n",
       " 'part': 802,\n",
       " 'cada': 803,\n",
       " '定期': 804,\n",
       " 'لك': 805,\n",
       " 'een': 806,\n",
       " 'seen': 807,\n",
       " 'kak': 808,\n",
       " 'así': 809,\n",
       " 'nem': 810,\n",
       " 'عمل': 811,\n",
       " 'white': 812,\n",
       " 'told': 813,\n",
       " 'says': 814,\n",
       " 'esto': 815,\n",
       " 'sad': 816,\n",
       " 'mo': 817,\n",
       " 'fue': 818,\n",
       " 'yah': 819,\n",
       " 'summer': 820,\n",
       " 'ه': 821,\n",
       " '⭕': 822,\n",
       " '»': 823,\n",
       " 'thats': 824,\n",
       " 'مع': 825,\n",
       " 'posted': 826,\n",
       " 'wants': 827,\n",
       " 'agora': 828,\n",
       " 'together': 829,\n",
       " 'fan': 830,\n",
       " 'men': 831,\n",
       " 'hear': 832,\n",
       " 'full': 833,\n",
       " '☀': 834,\n",
       " 'sigo': 835,\n",
       " 'pq': 836,\n",
       " 'dulu': 837,\n",
       " 'plus': 838,\n",
       " 'foi': 839,\n",
       " 'tudo': 840,\n",
       " 'هو': 841,\n",
       " 'ill': 842,\n",
       " 'あ': 843,\n",
       " 'thinking': 844,\n",
       " 'wtf': 845,\n",
       " 'pagi': 846,\n",
       " 'mama': 847,\n",
       " 'kalau': 848,\n",
       " 'hati': 849,\n",
       " 'sexy': 850,\n",
       " 'sayang': 851,\n",
       " 'baik': 852,\n",
       " 'semua': 853,\n",
       " 'hola': 854,\n",
       " 'went': 855,\n",
       " 'vos': 856,\n",
       " 'tanto': 857,\n",
       " 'finally': 858,\n",
       " 'fb': 859,\n",
       " 'sea': 860,\n",
       " 'stupid': 861,\n",
       " 'tus': 862,\n",
       " 'seriously': 863,\n",
       " 'hora': 864,\n",
       " 'min': 865,\n",
       " 'pic': 866,\n",
       " 'estas': 867,\n",
       " 'turn': 868,\n",
       " 'hours': 869,\n",
       " 'excited': 870,\n",
       " 'nah': 871,\n",
       " 'buy': 872,\n",
       " 'saying': 873,\n",
       " 'mah': 874,\n",
       " 'break': 875,\n",
       " 'needs': 876,\n",
       " 'ce': 877,\n",
       " 'room': 878,\n",
       " 'choice': 879,\n",
       " 'far': 880,\n",
       " 'dead': 881,\n",
       " 'quero': 882,\n",
       " 'saw': 883,\n",
       " 'kids': 884,\n",
       " 'lil': 885,\n",
       " 'whole': 886,\n",
       " 'puede': 887,\n",
       " 'fall': 888,\n",
       " 'sus': 889,\n",
       " 'lost': 890,\n",
       " 'asi': 891,\n",
       " 'word': 892,\n",
       " '☹': 893,\n",
       " 'also': 894,\n",
       " 'ريتويت': 895,\n",
       " 'probably': 896,\n",
       " 'everybody': 897,\n",
       " 'tarde': 898,\n",
       " 'run': 899,\n",
       " 'sei': 900,\n",
       " 'follback': 901,\n",
       " 'forget': 902,\n",
       " 'sweet': 903,\n",
       " 'welcome': 904,\n",
       " 'selamat': 905,\n",
       " '＿': 906,\n",
       " 'sur': 907,\n",
       " 'place': 908,\n",
       " 'gusta': 909,\n",
       " 'sabe': 910,\n",
       " 'androidgames': 911,\n",
       " 'tp': 912,\n",
       " 'tiempo': 913,\n",
       " 'بس': 914,\n",
       " 'sou': 915,\n",
       " 'tuh': 916,\n",
       " 'vs': 917,\n",
       " 'eyes': 918,\n",
       " 'انا': 919,\n",
       " 'picture': 920,\n",
       " 'das': 921,\n",
       " 'meet': 922,\n",
       " 'anak': 923,\n",
       " 'persona': 924,\n",
       " 'essa': 925,\n",
       " 'bored': 926,\n",
       " 'following': 927,\n",
       " 'nadie': 928,\n",
       " 'nobody': 929,\n",
       " 'dice': 930,\n",
       " 'alone': 931,\n",
       " 'sick': 932,\n",
       " 'red': 933,\n",
       " 'city': 934,\n",
       " 'cinta': 935,\n",
       " '月': 936,\n",
       " 'linda': 937,\n",
       " 'dream': 938,\n",
       " 'story': 939,\n",
       " 'km': 940,\n",
       " 'het': 941,\n",
       " 'waiting': 942,\n",
       " '^_^': 943,\n",
       " 'mine': 944,\n",
       " 'что': 945,\n",
       " 'reason': 946,\n",
       " 'kk': 947,\n",
       " 'لو': 948,\n",
       " 'online': 949,\n",
       " 'fast': 950,\n",
       " 'udh': 951,\n",
       " 'wanted': 952,\n",
       " 'op': 953,\n",
       " 'others': 954,\n",
       " 'gay': 955,\n",
       " 'n’t': 956,\n",
       " 'used': 957,\n",
       " 'sem': 958,\n",
       " 'understand': 959,\n",
       " 'moi': 960,\n",
       " 'sm': 961,\n",
       " 'aint': 962,\n",
       " 'donde': 963,\n",
       " 'bem': 964,\n",
       " 'which': 965,\n",
       " 'ng': 966,\n",
       " 'followback': 967,\n",
       " 'punya': 968,\n",
       " 'late': 969,\n",
       " 'anda': 970,\n",
       " 'tidur': 971,\n",
       " 'puedo': 972,\n",
       " 'early': 973,\n",
       " 'nd': 974,\n",
       " 'personas': 975,\n",
       " 'banyak': 976,\n",
       " '✅': 977,\n",
       " '➊': 978,\n",
       " 'trust': 979,\n",
       " 'noche': 980,\n",
       " 'tl': 981,\n",
       " '＞': 982,\n",
       " '«': 983,\n",
       " 'af': 984,\n",
       " 'move': 985,\n",
       " 'pro': 986,\n",
       " 'bring': 987,\n",
       " 'ku': 988,\n",
       " 'called': 989,\n",
       " 'relationship': 990,\n",
       " 'idk': 991,\n",
       " 'hurt': 992,\n",
       " 'st': 993,\n",
       " 'pernah': 994,\n",
       " 'pessoas': 995,\n",
       " 'hello': 996,\n",
       " 'uno': 997,\n",
       " 'unfollowers': 998,\n",
       " 'cry': 999,\n",
       " ...}"
      ]
     },
     "execution_count": 20,
     "metadata": {},
     "output_type": "execute_result"
    }
   ],
   "source": [
    "word2idx"
   ]
  },
  {
   "cell_type": "markdown",
   "metadata": {
    "id": "4G_q_EgHlCWC"
   },
   "source": [
    "Переведем токены в индексы"
   ]
  },
  {
   "cell_type": "code",
   "execution_count": 26,
   "metadata": {
    "ExecuteTime": {
     "end_time": "2021-10-09T08:55:50.370476Z",
     "start_time": "2021-10-09T08:55:50.361478Z"
    },
    "id": "WVQX-b8mEKtA"
   },
   "outputs": [],
   "source": [
    "def encode(word):\n",
    "    if word in word2idx.keys():\n",
    "        return word2idx[word]\n",
    "    return word2idx[\"unk\"]"
   ]
  },
  {
   "cell_type": "code",
   "execution_count": 27,
   "metadata": {
    "ExecuteTime": {
     "end_time": "2021-10-09T08:56:37.333268Z",
     "start_time": "2021-10-09T08:55:50.845820Z"
    },
    "id": "r9byefh6DSjV"
   },
   "outputs": [
    {
     "data": {
      "application/vnd.jupyter.widget-view+json": {
       "model_id": "5306f78413d54716a01bafdbb3b90a9b",
       "version_major": 2,
       "version_minor": 0
      },
      "text/plain": [
       "  0%|          | 0/120000 [00:00<?, ?ex/s]"
      ]
     },
     "metadata": {},
     "output_type": "display_data"
    },
    {
     "data": {
      "application/vnd.jupyter.widget-view+json": {
       "model_id": "c723033351ca4eb5805d81b6a223a08e",
       "version_major": 2,
       "version_minor": 0
      },
      "text/plain": [
       "  0%|          | 0/7600 [00:00<?, ?ex/s]"
      ]
     },
     "metadata": {},
     "output_type": "display_data"
    }
   ],
   "source": [
    "dataset = dataset.map(\n",
    "    lambda item: { # item элемент словаря из словаря {'train':...,'test':...}\n",
    "        \"features\": [encode(word) for word in item[\"tokenized\"]] # заменяем набор текста из каждого item['features'] на лист индексов по item['tokenized']\n",
    "    }\n",
    ")"
   ]
  },
  {
   "cell_type": "code",
   "execution_count": 28,
   "metadata": {
    "ExecuteTime": {
     "end_time": "2021-10-09T08:56:40.570138Z",
     "start_time": "2021-10-09T08:56:40.549144Z"
    },
    "id": "Y05UCYA4D0OC"
   },
   "outputs": [
    {
     "data": {
      "text/plain": [
       "{'text': \"Wall St. Bears Claw Back Into the Black (Reuters) Reuters - Short-sellers, Wall Street's dwindling\\\\band of ultra-cynics, are seeing green again.\",\n",
       " 'label': 2,\n",
       " 'tokenized': ['Wall',\n",
       "  'St',\n",
       "  '.',\n",
       "  'Bears',\n",
       "  'Claw',\n",
       "  'Back',\n",
       "  'Into',\n",
       "  'the',\n",
       "  'Black',\n",
       "  '(',\n",
       "  'Reuters',\n",
       "  ')',\n",
       "  'Reuters',\n",
       "  '-',\n",
       "  'Short',\n",
       "  '-',\n",
       "  'sellers',\n",
       "  ',',\n",
       "  'Wall',\n",
       "  'Street',\n",
       "  \"'\",\n",
       "  's',\n",
       "  'dwindling',\n",
       "  '\\\\',\n",
       "  'band',\n",
       "  'of',\n",
       "  'ultra',\n",
       "  '-',\n",
       "  'cynics',\n",
       "  ',',\n",
       "  'are',\n",
       "  'seeing',\n",
       "  'green',\n",
       "  'again',\n",
       "  '.'],\n",
       " 'features': [62980,\n",
       "  62980,\n",
       "  1,\n",
       "  62980,\n",
       "  62980,\n",
       "  62980,\n",
       "  62980,\n",
       "  13,\n",
       "  62980,\n",
       "  17,\n",
       "  62980,\n",
       "  20,\n",
       "  62980,\n",
       "  28,\n",
       "  62980,\n",
       "  28,\n",
       "  49286,\n",
       "  4,\n",
       "  62980,\n",
       "  62980,\n",
       "  48,\n",
       "  137,\n",
       "  214902,\n",
       "  370,\n",
       "  1645,\n",
       "  39,\n",
       "  8606,\n",
       "  28,\n",
       "  380053,\n",
       "  4,\n",
       "  70,\n",
       "  1321,\n",
       "  1745,\n",
       "  389,\n",
       "  1]}"
      ]
     },
     "execution_count": 28,
     "metadata": {},
     "output_type": "execute_result"
    }
   ],
   "source": [
    "dataset[\"train\"][0]"
   ]
  },
  {
   "cell_type": "code",
   "execution_count": 29,
   "metadata": {
    "ExecuteTime": {
     "end_time": "2021-10-09T08:58:12.147280Z",
     "start_time": "2021-10-09T08:58:12.125283Z"
    },
    "id": "UiHvDSTAHJ8D"
   },
   "outputs": [
    {
     "name": "stderr",
     "output_type": "stream",
     "text": [
      "C:\\Users\\BIT\\AppData\\Local\\Temp/ipykernel_7068/3782232894.py:1: FutureWarning: remove_columns_ is deprecated and will be removed in the next major version of datasets. Use DatasetDict.remove_columns instead.\n",
      "  dataset.remove_columns_([\"text\", \"tokenized\"])\n"
     ]
    }
   ],
   "source": [
    "dataset.remove_columns_([\"text\", \"tokenized\"]) # так как у нас есть фичи (индексы векторов word2vec), удаляем текст"
   ]
  },
  {
   "cell_type": "markdown",
   "metadata": {
    "id": "hOI1-AlYlbgA"
   },
   "source": [
    "Переведем в тензоры"
   ]
  },
  {
   "cell_type": "code",
   "execution_count": 31,
   "metadata": {
    "ExecuteTime": {
     "end_time": "2021-10-09T09:01:45.953901Z",
     "start_time": "2021-10-09T09:01:45.947905Z"
    },
    "id": "6VZ9EBnCK9V3"
   },
   "outputs": [],
   "source": [
    "dataset.set_format(type='torch')"
   ]
  },
  {
   "cell_type": "code",
   "execution_count": 32,
   "metadata": {
    "ExecuteTime": {
     "end_time": "2021-10-09T09:01:46.869483Z",
     "start_time": "2021-10-09T09:01:46.829222Z"
    },
    "id": "FWdVJKsnPtYX"
   },
   "outputs": [
    {
     "data": {
      "text/plain": [
       "{'label': tensor(2),\n",
       " 'features': tensor([ 62980,  62980,      1,  62980,  62980,  62980,  62980,     13,  62980,\n",
       "             17,  62980,     20,  62980,     28,  62980,     28,  49286,      4,\n",
       "          62980,  62980,     48,    137, 214902,    370,   1645,     39,   8606,\n",
       "             28, 380053,      4,     70,   1321,   1745,    389,      1])}"
      ]
     },
     "execution_count": 32,
     "metadata": {},
     "output_type": "execute_result"
    }
   ],
   "source": [
    "dataset[\"train\"][0]"
   ]
  },
  {
   "cell_type": "markdown",
   "metadata": {
    "id": "-6haisMrlmSu"
   },
   "source": [
    "Хотим склеить объекты разной длинны в батчи. Для этого давайте напишем `collate_fn`."
   ]
  },
  {
   "cell_type": "code",
   "execution_count": 33,
   "metadata": {
    "ExecuteTime": {
     "end_time": "2021-10-09T09:01:48.771221Z",
     "start_time": "2021-10-09T09:01:48.753221Z"
    },
    "id": "hzwuahwBxb2l"
   },
   "outputs": [],
   "source": [
    "def collate_fn(batch): # torch.long для дискретных матриц\n",
    "    max_len = max(len(row[\"features\"]) for row in batch) # для одинакового предствления данных в батче\n",
    "    input_embeds = torch.empty((len(batch), max_len), dtype=torch.long) # матрица длина батча x максимальную длину (batch_size x seq_len)\n",
    "    labels = torch.empty(len(batch), dtype=torch.long) # вектор лейблов\n",
    "    for idx, row in enumerate(batch): # заполняем input_embeds данными; row словарарь(features, labels) (элемент датасета)\n",
    "        to_pad = max_len - len(row[\"features\"]) # кол-во элементов для допаддинга\n",
    "        input_embeds[idx] = torch.cat((row[\"features\"], torch.zeros(to_pad))) # в соответ. по индексу строку матрицы input_embeds вставляем конкат. эмбеддинга и нулей доппадинга (строка - слово) \n",
    "        labels[idx] = row[\"label\"] # в соответсвующий по индексу элемент вектрора лейблов вствляем лейбл\n",
    "    return {\"features\": input_embeds, \"labels\": labels}"
   ]
  },
  {
   "cell_type": "code",
   "execution_count": 53,
   "metadata": {
    "ExecuteTime": {
     "end_time": "2021-10-09T09:59:02.687976Z",
     "start_time": "2021-10-09T09:59:02.681976Z"
    },
    "id": "FdVbtWJzszbu"
   },
   "outputs": [],
   "source": [
    "from torch.utils.data import DataLoader\n",
    "\n",
    "loaders = { # словарь('train':train_loader,'test':test_loader)\n",
    "    k: DataLoader(\n",
    "        ds, shuffle=(k==\"train\"), batch_size=32, collate_fn=collate_fn\n",
    "    ) for k, ds in dataset.items()\n",
    "}# k - train,test; ds - словарь(features,labels)"
   ]
  },
  {
   "cell_type": "markdown",
   "metadata": {
    "id": "jbsqpZ-WfPqe"
   },
   "source": [
    "## CNN\n",
    "\n",
    "Первая модель, которую мы рассмотрим: CNN. Одномерная конволюция достаточно хорошо справляется с задачей классификации. В конце надо собрать вектор текста с помощью `AdaptiveMaxPool1d` или `AdaptiveAvgPool1d`. Для классиффикации можно собрать любую Feed Forward Network."
   ]
  },
  {
   "cell_type": "code",
   "execution_count": 58,
   "metadata": {
    "ExecuteTime": {
     "end_time": "2021-10-09T10:07:28.537573Z",
     "start_time": "2021-10-09T10:07:28.419571Z"
    }
   },
   "outputs": [
    {
     "name": "stdout",
     "output_type": "stream",
     "text": [
      "Sat Oct  9 13:07:28 2021       \n",
      "+-----------------------------------------------------------------------------+\n",
      "| NVIDIA-SMI 472.12       Driver Version: 472.12       CUDA Version: 11.4     |\n",
      "|-------------------------------+----------------------+----------------------+\n",
      "| GPU  Name            TCC/WDDM | Bus-Id        Disp.A | Volatile Uncorr. ECC |\n",
      "| Fan  Temp  Perf  Pwr:Usage/Cap|         Memory-Usage | GPU-Util  Compute M. |\n",
      "|                               |                      |               MIG M. |\n",
      "|===============================+======================+======================|\n",
      "|   0  NVIDIA GeForce ... WDDM  | 00000000:01:00.0  On |                  N/A |\n",
      "| N/A   44C    P8     2W /  N/A |   2657MiB /  8192MiB |      0%      Default |\n",
      "|                               |                      |                  N/A |\n",
      "+-------------------------------+----------------------+----------------------+\n",
      "                                                                               \n",
      "+-----------------------------------------------------------------------------+\n",
      "| Processes:                                                                  |\n",
      "|  GPU   GI   CI        PID   Type   Process name                  GPU Memory |\n",
      "|        ID   ID                                                   Usage      |\n",
      "|=============================================================================|\n",
      "|    0   N/A  N/A      7068      C   ...onda\\envs\\deep\\python.exe    N/A      |\n",
      "|    0   N/A  N/A     10408    C+G   Insufficient Permissions        N/A      |\n",
      "+-----------------------------------------------------------------------------+\n"
     ]
    }
   ],
   "source": [
    "!nvidia-smi"
   ]
  },
  {
   "cell_type": "code",
   "execution_count": 38,
   "metadata": {
    "ExecuteTime": {
     "end_time": "2021-10-09T09:56:34.218193Z",
     "start_time": "2021-10-09T09:56:34.198195Z"
    },
    "id": "e9DMopWCiBlD"
   },
   "outputs": [],
   "source": [
    "class CNNModel(nn.Module): # делаем свёртки на векторах\n",
    "    def __init__(self, embed_size, hidden_size, num_classes=4): # может быть слова из 3 слов содержат достаточную информацию для классификации текста (например, по токсичности (3 слова грубых))\n",
    "        super().__init__()\n",
    "        self.embeddings = nn.Embedding(len(word2idx), embedding_dim=embed_size) # 1193514 x 25\n",
    "        self.cnn = nn.Sequential(\n",
    "            nn.Conv1d(embed_size, hidden_size, kernel_size=3, padding=1, stride=2), # embed_size и hidden_size отвечают за размер столбцов(размер эмбеддингов слов предложения)\n",
    "            nn.BatchNorm1d(hidden_size),\n",
    "            nn.ReLU(),\n",
    "            nn.Conv1d(hidden_size, hidden_size, kernel_size=3, padding=1, stride=2),\n",
    "            nn.BatchNorm1d(hidden_size),\n",
    "            nn.ReLU(),\n",
    "            nn.Conv1d(hidden_size, hidden_size, kernel_size=3, padding=1, stride=2),\n",
    "            nn.BatchNorm1d(hidden_size),\n",
    "            nn.ReLU(),\n",
    "            nn.AdaptiveMaxPool1d(1), # берёт максимум по всем каналам, изменяя только последний канал (оставляет один столбец - эмбеддинг предложения) (batch_size x hidden_size (50) x 1)\n",
    "            nn.Flatten(),\n",
    "        ) nn.AdaptiveMaxPool1d\n",
    "        self.cl = nn.Sequential(\n",
    "            nn.Linear(hidden_size, num_classes) # (batch_size x hidden_size x 1) -> (batch_size x num_classes)\n",
    "        )\n",
    "\n",
    "    def forward(self, x): # x - batch_size x seq_len (строки-предложения, которые являются списками индексов)\n",
    "        x = self.embeddings(x)  # подаются индексы получаются эмбеддинги (batch_size, seq_len, embed_dim)\n",
    "        x = x.permute(0, 2, 1) # меняет размерности в соответсвующем порядке цифр (batch_size, embed_dim, seq_le); x - батч столбцов-эмбеддингов соответсвующих слов в предложении\n",
    "        x = self.cnn(x) #Conv-BN-RELU+Conv-BN-RELU+Conv-BN-RELU+AMaxPool\n",
    "        prediction = self.cl(x) # batch_size x num_classes\n",
    "        return prediction "
   ]
  },
  {
   "cell_type": "code",
   "execution_count": 39,
   "metadata": {
    "ExecuteTime": {
     "end_time": "2021-10-09T09:56:41.520459Z",
     "start_time": "2021-10-09T09:56:37.929234Z"
    },
    "id": "2Ed-3nQHjDrd"
   },
   "outputs": [],
   "source": [
    "device = \"cuda\" if torch.cuda.is_available() else \"cpu\"\n",
    "\n",
    "model = CNNModel(word2vec.vector_size, 50).to(device) # 50 - hidden_size - на сколько каналов будем расширять эмбеддинги в свёрктах\n",
    "criterion = nn.CrossEntropyLoss()\n",
    "optimizer = torch.optim.Adam(model.parameters(), lr=1e-2)\n",
    "\n",
    "num_epochs = 1"
   ]
  },
  {
   "cell_type": "markdown",
   "metadata": {
    "id": "9oZjYEBkgauj"
   },
   "source": [
    "Подготовим функцию для обучения модели:"
   ]
  },
  {
   "cell_type": "code",
   "execution_count": 43,
   "metadata": {
    "ExecuteTime": {
     "end_time": "2021-10-09T09:57:39.998558Z",
     "start_time": "2021-10-09T09:57:39.986558Z"
    },
    "id": "Y7Smd5_03CSp"
   },
   "outputs": [],
   "source": [
    "\n",
    "from tqdm.notebook import tqdm, trange\n",
    "\n",
    "\n",
    "def training(model, criterion, optimizer, num_epochs, loaders, max_grad_norm=2):\n",
    "    for e in trange(num_epochs, leave=False):\n",
    "        model.train()\n",
    "        num_iter = 0\n",
    "        pbar = tqdm(loaders[\"train\"], leave=False)\n",
    "        for batch in pbar:\n",
    "            optimizer.zero_grad()\n",
    "            input_embeds = batch[\"features\"].to(device)\n",
    "            labels = batch[\"labels\"].to(device)\n",
    "            prediction = model(input_embeds)\n",
    "            loss = criterion(prediction, labels)\n",
    "            loss.backward()\n",
    "            if max_grad_norm is not None:\n",
    "                torch.nn.utils.clip_grad_norm_(model.parameters(), max_grad_norm)\n",
    "            optimizer.step()\n",
    "            num_iter += 1\n",
    "        valid_loss = 0\n",
    "        valid_acc = 0\n",
    "        num_iter = 0\n",
    "        model.eval()\n",
    "        with torch.no_grad():\n",
    "            correct = 0\n",
    "            num_objs = 0\n",
    "            for batch in loaders[\"test\"]:\n",
    "                input_embeds = batch[\"features\"].to(device)\n",
    "                labels = batch[\"labels\"].to(device)\n",
    "                prediction = model(input_embeds)\n",
    "                valid_loss += criterion(prediction, labels)\n",
    "                correct += (labels == prediction.argmax(-1)).float().sum() # argmax(-1) - (batch_size x num_classes -> batch_size x 1 (номер столбца))\n",
    "                num_objs += len(labels)\n",
    "                num_iter += 1\n",
    "\n",
    "        print(f\"Valid Loss: {valid_loss / num_iter}, accuracy: {correct/num_objs}\")"
   ]
  },
  {
   "cell_type": "code",
   "execution_count": 54,
   "metadata": {
    "ExecuteTime": {
     "end_time": "2021-10-09T10:00:48.911014Z",
     "start_time": "2021-10-09T09:59:05.532180Z"
    },
    "id": "oOi77V2XjDpg"
   },
   "outputs": [
    {
     "data": {
      "application/vnd.jupyter.widget-view+json": {
       "model_id": "",
       "version_major": 2,
       "version_minor": 0
      },
      "text/plain": [
       "  0%|          | 0/1 [00:00<?, ?it/s]"
      ]
     },
     "metadata": {},
     "output_type": "display_data"
    },
    {
     "data": {
      "application/vnd.jupyter.widget-view+json": {
       "model_id": "",
       "version_major": 2,
       "version_minor": 0
      },
      "text/plain": [
       "  0%|          | 0/3750 [00:00<?, ?it/s]"
      ]
     },
     "metadata": {},
     "output_type": "display_data"
    },
    {
     "name": "stdout",
     "output_type": "stream",
     "text": [
      "Valid Loss: 0.4036913812160492, accuracy: 0.8590788841247559\n"
     ]
    }
   ],
   "source": [
    "training(model, criterion, optimizer, num_epochs, loaders)"
   ]
  },
  {
   "cell_type": "markdown",
   "metadata": {
    "id": "FN8E8-ZSgnul"
   },
   "source": [
    "## RNN\n",
    "\n",
    "Вторая модель: RNN. Это рекуррентная сеть, она использует скрытое состояние из прошлой иттерации для создания нового. Это описывается с помощью формул:\n",
    "\n",
    "$$\n",
    "h_t = \\tanh(W_{ih} x_t + b_{ih} + W_{hh} h_{(t-1)} + b_{hh})\n",
    "$$\n",
    "\n",
    "Напишем этот модуль на `Torch`!\n",
    "\n"
   ]
  },
  {
   "cell_type": "code",
   "execution_count": 121,
   "metadata": {
    "ExecuteTime": {
     "end_time": "2021-10-09T11:21:37.165994Z",
     "start_time": "2021-10-09T11:21:37.148998Z"
    },
    "id": "zBKQXeMOwie-"
   },
   "outputs": [],
   "source": [
    "class RNN(nn.Module):\n",
    "    def __init__(self, embed_size, hidden_size):\n",
    "        super().__init__()\n",
    "\n",
    "        self.embed_size = embed_size\n",
    "        self.hidden_size = hidden_size\n",
    "\n",
    "        self.w_h = nn.Parameter(torch.rand(hidden_size, hidden_size)) # W.T\n",
    "        self.b_h = nn.Parameter(torch.rand((1, hidden_size)))\n",
    "        self.w_x = nn.Parameter(torch.rand(embed_size, hidden_size)) # V.T # (batch_size x embed_size * embed_size x hidden_size -> batch_size x hidden_size)\n",
    "        self.b_x = nn.Parameter(torch.rand(1, hidden_size))\n",
    "\n",
    "    def forward(self, x, hidden=None):\n",
    "        '''\n",
    "        x – torch.FloatTensor with the shape (bs, seq_length, emb_size)\n",
    "        hidden - torch.FloatTensro with the shape (bs, hidden_size)\n",
    "        return: torch.FloatTensor with the shape (bs, hidden_size)\n",
    "        '''\n",
    "        if hidden is None:\n",
    "            hidden = torch.zeros((x.size(0), self.hidden_size)).to(x.device) # (batch_size x hidden_size) [hidden - строка, в тетради h был столбцом]\n",
    "        seq_length = x.size(1) \n",
    "        for cur_idx in range(seq_length):\n",
    "            hidden = torch.tanh( # hidden задан реккурентно\n",
    "                x[:, cur_idx] @ self.w_x + self.b_x + hidden @ self.w_h + self.b_h # x[:,cur_idx] берём эмбеддинг слова из предложения -> (batch_size x embed_dim)\n",
    "            ) # x[:, cur_idx] @ self.w_x -- (batch_size x embed_size * embed_size x hidden_size -> batch_size x hidden_size)\n",
    "        return hidden"
   ]
  },
  {
   "cell_type": "code",
   "execution_count": 122,
   "metadata": {
    "ExecuteTime": {
     "end_time": "2021-10-09T11:21:37.541265Z",
     "start_time": "2021-10-09T11:21:37.534262Z"
    },
    "id": "9LJ3ZIuZzamP"
   },
   "outputs": [],
   "source": [
    "class RNNModel(nn.Module):\n",
    "    def __init__(self, embed_size, hidden_size, num_classes=4):\n",
    "        super().__init__()\n",
    "        self.embeddings = nn.Embedding(len(word2idx), embed_size)\n",
    "        self.rnn = RNN(embed_size, hidden_size)\n",
    "        self.cls = nn.Linear(hidden_size, num_classes) # (batch_size x hidden_size) -> (batch_size x num_classes) \n",
    "\n",
    "    def forward(self, x):\n",
    "        x = self.embeddings(x) # (batch_size,seq_len, embed_dim)\n",
    "        hidden = self.rnn(x)\n",
    "        output = self.cls(hidden)\n",
    "        return output"
   ]
  },
  {
   "cell_type": "code",
   "execution_count": 123,
   "metadata": {
    "ExecuteTime": {
     "end_time": "2021-10-09T11:21:38.988346Z",
     "start_time": "2021-10-09T11:21:38.309349Z"
    },
    "id": "ftuDhqdtzaj-"
   },
   "outputs": [],
   "source": [
    "device = \"cuda\" if torch.cuda.is_available() else \"cpu\"\n",
    "\n",
    "model = RNNModel(word2vec.vector_size, 50).to(device)\n",
    "criterion = nn.CrossEntropyLoss()\n",
    "optimizer = torch.optim.Adam(model.parameters(), lr=1e-2)\n",
    "\n",
    "num_epochs = 1\n",
    "max_grad_norm = 1.0"
   ]
  },
  {
   "cell_type": "code",
   "execution_count": 124,
   "metadata": {
    "ExecuteTime": {
     "end_time": "2021-10-09T11:26:33.925267Z",
     "start_time": "2021-10-09T11:21:40.022189Z"
    },
    "id": "Yx62ofTU3CNY"
   },
   "outputs": [
    {
     "data": {
      "application/vnd.jupyter.widget-view+json": {
       "model_id": "",
       "version_major": 2,
       "version_minor": 0
      },
      "text/plain": [
       "  0%|          | 0/1 [00:00<?, ?it/s]"
      ]
     },
     "metadata": {},
     "output_type": "display_data"
    },
    {
     "data": {
      "application/vnd.jupyter.widget-view+json": {
       "model_id": "",
       "version_major": 2,
       "version_minor": 0
      },
      "text/plain": [
       "  0%|          | 0/3750 [00:00<?, ?it/s]"
      ]
     },
     "metadata": {},
     "output_type": "display_data"
    },
    {
     "name": "stdout",
     "output_type": "stream",
     "text": [
      "Valid Loss: 1.4723517894744873, accuracy: 0.2510526180267334\n"
     ]
    }
   ],
   "source": [
    "training(model, criterion, optimizer, num_epochs, loaders, max_grad_norm)"
   ]
  },
  {
   "cell_type": "markdown",
   "metadata": {
    "id": "XJqh9eWIhxE0"
   },
   "source": [
    "## GRU\n",
    "\n",
    "Третья модель: GRU. Она усложненная версия `RNN`. Гланая идея GRU: гейты. Так реализуется \"память\" модели – она маскирует часть старого скрытого состояния, создавая на этом месте новое. Модель GRU описывается следующим образом:\n",
    "\n",
    "$$\n",
    "\\begin{array}{ll}\n",
    "            r_t = \\sigma(W_{ir} x_t + b_{ir} + W_{hr} h_{(t-1)} + b_{hr}) \\\\\n",
    "            z_t = \\sigma(W_{iz} x_t + b_{iz} + W_{hz} h_{(t-1)} + b_{hz}) \\\\\n",
    "            n_t = \\tanh(W_{in} x_t + b_{in} + r_t * (W_{hn} h_{(t-1)}+ b_{hn})) \\\\\n",
    "            h_t = (1 - z_t) * n_t + z_t * h_{(t-1)}\n",
    "        \\end{array}\n",
    "$$"
   ]
  },
  {
   "cell_type": "code",
   "execution_count": 125,
   "metadata": {
    "ExecuteTime": {
     "end_time": "2021-10-09T11:31:24.738545Z",
     "start_time": "2021-10-09T11:31:24.718546Z"
    },
    "id": "Hi1yv2cy3CJB"
   },
   "outputs": [],
   "source": [
    "class GRU(nn.Module):\n",
    "    def __init__(self, embed_size, hidden_size):\n",
    "        super().__init__()\n",
    "\n",
    "        self.embed_size = embed_size\n",
    "        self.hidden_size = hidden_size\n",
    "# параметры для r\n",
    "        self.w_rh = nn.Parameter(torch.rand(hidden_size, hidden_size))\n",
    "        self.b_rh = nn.Parameter(torch.rand((1, hidden_size)))\n",
    "        self.w_rx = nn.Parameter(torch.rand(embed_size, hidden_size))\n",
    "        self.b_rx = nn.Parameter(torch.rand(1, hidden_size))\n",
    "# параметры для z\n",
    "        self.w_zh = nn.Parameter(torch.rand(hidden_size, hidden_size))\n",
    "        self.b_zh = nn.Parameter(torch.rand((1, hidden_size)))\n",
    "        self.w_zx = nn.Parameter(torch.rand(embed_size, hidden_size))\n",
    "        self.b_zx = nn.Parameter(torch.rand(1, hidden_size))\n",
    "# параметры для n\n",
    "        self.w_nh = nn.Parameter(torch.rand(hidden_size, hidden_size))\n",
    "        self.b_nh = nn.Parameter(torch.rand((1, hidden_size)))\n",
    "        self.w_nx = nn.Parameter(torch.rand(embed_size, hidden_size))\n",
    "        self.b_nx = nn.Parameter(torch.rand(1, hidden_size))\n",
    "\n",
    "    def forward(self, x, hidden = None):\n",
    "        '''\n",
    "        x – torch.FloatTensor with the shape (bs, seq_length, emb_size)\n",
    "        hidden - torch.FloatTensro with the shape (bs, hidden_size)\n",
    "        return: torch.FloatTensor with the shape (bs, hidden_size)\n",
    "        '''\n",
    "        if hidden is None:\n",
    "            hidden = torch.zeros((x.size(0), self.hidden_size)).to(x.device) # (batch_size,hidden_size) [строка для каждого батча]\n",
    "        \n",
    "        for cur_idx in range(x.size(1)):\n",
    "            r = torch.sigmoid(\n",
    "                x[:, cur_idx] @ self.w_rx + self.b_rx + hidden @ self.w_rh + self.b_rh\n",
    "            )\n",
    "            z = torch.sigmoid(\n",
    "                x[:, cur_idx] @ self.w_zx + self.b_zx + hidden @ self.w_zh + self.b_zh\n",
    "            )\n",
    "            n = torch.tanh(\n",
    "                x[:, cur_idx] @ self.w_nx + self.b_nx + r * (hidden @ self.w_nh + self.b_nh)\n",
    "            )\n",
    "            hidden = (1 - z) * n + z * hidden\n",
    "\n",
    "        return hidden"
   ]
  },
  {
   "cell_type": "code",
   "execution_count": 126,
   "metadata": {
    "ExecuteTime": {
     "end_time": "2021-10-09T11:31:25.162010Z",
     "start_time": "2021-10-09T11:31:25.146013Z"
    },
    "id": "bisyVic-3CDu"
   },
   "outputs": [],
   "source": [
    "class GRUModel(nn.Module):\n",
    "    def __init__(self, embed_size, hidden_size, num_classes=4):\n",
    "        super().__init__()\n",
    "        self.embed = nn.Embedding(len(word2idx), embed_size)\n",
    "        self.gru = GRU(embed_size, hidden_size)\n",
    "        self.cls = nn.Linear(hidden_size, num_classes)\n",
    "\n",
    "    def forward(self, x):\n",
    "        x = self.embed(x)\n",
    "        hidden = self.gru(x)\n",
    "        output = self.cls(hidden)\n",
    "        return output"
   ]
  },
  {
   "cell_type": "code",
   "execution_count": 127,
   "metadata": {
    "ExecuteTime": {
     "end_time": "2021-10-09T11:31:26.204312Z",
     "start_time": "2021-10-09T11:31:25.541308Z"
    },
    "id": "UASjrUtDzaf3"
   },
   "outputs": [],
   "source": [
    "device = \"cuda\" if torch.cuda.is_available() else \"cpu\"\n",
    "\n",
    "model = GRUModel(word2vec.vector_size, 50).to(device)\n",
    "criterion = nn.CrossEntropyLoss()\n",
    "optimizer = torch.optim.Adam(model.parameters(), lr=1e-2)\n",
    "\n",
    "num_epochs = 1\n",
    "max_grad_norm = 1.0"
   ]
  },
  {
   "cell_type": "code",
   "execution_count": 128,
   "metadata": {
    "ExecuteTime": {
     "end_time": "2021-10-09T11:45:03.798869Z",
     "start_time": "2021-10-09T11:31:26.206308Z"
    },
    "id": "wlom9sHdzac6"
   },
   "outputs": [
    {
     "data": {
      "application/vnd.jupyter.widget-view+json": {
       "model_id": "",
       "version_major": 2,
       "version_minor": 0
      },
      "text/plain": [
       "  0%|          | 0/1 [00:00<?, ?it/s]"
      ]
     },
     "metadata": {},
     "output_type": "display_data"
    },
    {
     "data": {
      "application/vnd.jupyter.widget-view+json": {
       "model_id": "",
       "version_major": 2,
       "version_minor": 0
      },
      "text/plain": [
       "  0%|          | 0/3750 [00:00<?, ?it/s]"
      ]
     },
     "metadata": {},
     "output_type": "display_data"
    },
    {
     "name": "stdout",
     "output_type": "stream",
     "text": [
      "Valid Loss: 0.8999207019805908, accuracy: 0.6455262899398804\n"
     ]
    }
   ],
   "source": [
    "training(model, criterion, optimizer, num_epochs, loaders, max_grad_norm)"
   ]
  },
  {
   "cell_type": "markdown",
   "metadata": {
    "id": "mG4My7G5i5Vs"
   },
   "source": [
    "## GRU + Embeddings\n",
    "\n",
    "Мы не просто так загрузили эмбэдинги в начале. Давай использовать их вместо случайной инициализации! Для этого надо немного переделать способ подачи данных в модель и добавить в модель модуль `Embedding`. По-экспериментируем на модели `GRU`."
   ]
  },
  {
   "cell_type": "code",
   "execution_count": 135,
   "metadata": {
    "ExecuteTime": {
     "end_time": "2021-10-09T12:14:49.317157Z",
     "start_time": "2021-10-09T12:14:48.642133Z"
    },
    "id": "SbYLzLdYLxjc"
   },
   "outputs": [],
   "source": [
    "device = \"cuda\" if torch.cuda.is_available() else \"cpu\"\n",
    "\n",
    "model = GRUModel(word2vec.vector_size, 50).to(device)\n",
    "criterion = nn.CrossEntropyLoss()\n",
    "optimizer = torch.optim.Adam(model.parameters(), lr=1e-2)\n",
    "\n",
    "num_epochs = 1\n",
    "max_grad_norm = 1.0"
   ]
  },
  {
   "cell_type": "code",
   "execution_count": 133,
   "metadata": {
    "ExecuteTime": {
     "end_time": "2021-10-09T12:00:44.909247Z",
     "start_time": "2021-10-09T11:58:48.953411Z"
    },
    "id": "_-TxEwzMLsuz"
   },
   "outputs": [
    {
     "name": "stderr",
     "output_type": "stream",
     "text": [
      "C:\\Users\\BIT\\AppData\\Local\\Temp/ipykernel_7068/1175556816.py:4: UserWarning: The given NumPy array is not writeable, and PyTorch does not support non-writeable tensors. This means you can write to the underlying (supposedly non-writeable) NumPy array using the tensor. You may want to copy the array to protect its data or make it writeable before converting it to a tensor. This type of warning will be suppressed for the rest of this program. (Triggered internally at  ..\\torch\\csrc\\utils\\tensor_numpy.cpp:141.)\n",
      "  model.embed.weight[idx] = torch.from_numpy(word2vec.get_vector(word))\n"
     ]
    }
   ],
   "source": [
    "with torch.no_grad():\n",
    "    for word, idx in word2idx.items():\n",
    "        if word in word2vec:\n",
    "            model.embed.weight[idx] = torch.from_numpy(word2vec.get_vector(word)) # на соответвующую строку (слово) по индексу ставим вектор эмбеддингов (этого слова)"
   ]
  },
  {
   "cell_type": "code",
   "execution_count": 134,
   "metadata": {
    "ExecuteTime": {
     "end_time": "2021-10-09T12:14:26.787895Z",
     "start_time": "2021-10-09T12:00:44.912243Z"
    },
    "id": "Opw85y82Mhvf"
   },
   "outputs": [
    {
     "data": {
      "application/vnd.jupyter.widget-view+json": {
       "model_id": "",
       "version_major": 2,
       "version_minor": 0
      },
      "text/plain": [
       "  0%|          | 0/1 [00:00<?, ?it/s]"
      ]
     },
     "metadata": {},
     "output_type": "display_data"
    },
    {
     "data": {
      "application/vnd.jupyter.widget-view+json": {
       "model_id": "",
       "version_major": 2,
       "version_minor": 0
      },
      "text/plain": [
       "  0%|          | 0/3750 [00:00<?, ?it/s]"
      ]
     },
     "metadata": {},
     "output_type": "display_data"
    },
    {
     "name": "stdout",
     "output_type": "stream",
     "text": [
      "Valid Loss: 0.4243246912956238, accuracy: 0.8534210324287415\n"
     ]
    }
   ],
   "source": [
    "training(model, criterion, optimizer, num_epochs, loaders, max_grad_norm)"
   ]
  },
  {
   "cell_type": "markdown",
   "metadata": {
    "id": "T91mZsx_b8z8"
   },
   "source": [
    "Попробуем заморозить эмбединги на первых итерациях обучения. Это поможет не сильно портить наши эмбединги на первых итерациях."
   ]
  },
  {
   "cell_type": "code",
   "execution_count": 136,
   "metadata": {
    "ExecuteTime": {
     "end_time": "2021-10-09T12:15:00.897423Z",
     "start_time": "2021-10-09T12:15:00.889426Z"
    },
    "id": "trrbDTJqMvLK"
   },
   "outputs": [],
   "source": [
    "def freeze_embeddings(model, req_grad=False):\n",
    "    embeddings = model.embed\n",
    "    for c_p in embeddings.parameters():\n",
    "        c_p.requires_grad = req_grad"
   ]
  },
  {
   "cell_type": "code",
   "execution_count": 137,
   "metadata": {
    "ExecuteTime": {
     "end_time": "2021-10-09T12:15:01.689262Z",
     "start_time": "2021-10-09T12:15:01.666268Z"
    },
    "id": "zcPZxlseJME5"
   },
   "outputs": [],
   "source": [
    "def training_freeze(model, criterion, optimizer, num_epochs, loaders, max_grad_norm=2, num_freeze_iter=1000):\n",
    "    freeze_embeddings(model)\n",
    "    for e in trange(num_epochs, leave=False):\n",
    "        model.train()\n",
    "        num_iter = 0\n",
    "        pbar = tqdm(loaders[\"train\"], leave=False)\n",
    "        for batch in pbar:\n",
    "            if num_iter > num_freeze_iter and e < 1:\n",
    "                freeze_embeddings(model, True)\n",
    "            optimizer.zero_grad()\n",
    "            input_embeds = batch[\"features\"].to(device)\n",
    "            labels = batch[\"labels\"].to(device)\n",
    "            prediction = model(input_embeds)\n",
    "            loss = criterion(prediction, labels)\n",
    "            loss.backward()\n",
    "            if max_grad_norm is not None:\n",
    "                torch.nn.utils.clip_grad_norm_(model.parameters(), max_grad_norm)\n",
    "            optimizer.step()\n",
    "            num_iter += 1\n",
    "        valid_loss = 0\n",
    "        valid_acc = 0\n",
    "        num_iter = 0\n",
    "        model.eval()\n",
    "        with torch.no_grad():\n",
    "            correct = 0\n",
    "            num_objs = 0\n",
    "            for batch in loaders[\"test\"]:\n",
    "                input_embeds = batch[\"features\"].to(device)\n",
    "                labels = batch[\"labels\"].to(device)\n",
    "                prediction = model(input_embeds)\n",
    "                valid_loss += criterion(prediction, labels)\n",
    "                correct += (labels == prediction.argmax(-1)).float().sum()\n",
    "                num_objs += len(labels)\n",
    "                num_iter += 1\n",
    "\n",
    "        print(f\"Valid Loss: {valid_loss / num_iter}, accuracy: {correct/num_objs}\")"
   ]
  },
  {
   "cell_type": "code",
   "execution_count": 138,
   "metadata": {
    "ExecuteTime": {
     "end_time": "2021-10-09T12:15:03.237363Z",
     "start_time": "2021-10-09T12:15:02.602359Z"
    },
    "id": "fYbcqM2iKERh"
   },
   "outputs": [],
   "source": [
    "device = \"cuda\" if torch.cuda.is_available() else \"cpu\"\n",
    "\n",
    "model = GRUModel(word2vec.vector_size, 50).to(device)\n",
    "criterion = nn.CrossEntropyLoss()\n",
    "optimizer = torch.optim.Adam(model.parameters(), lr=1e-2)\n",
    "\n",
    "num_epochs = 1\n",
    "max_grad_norm = 1.0"
   ]
  },
  {
   "cell_type": "code",
   "execution_count": 139,
   "metadata": {
    "ExecuteTime": {
     "end_time": "2021-10-09T12:16:55.434228Z",
     "start_time": "2021-10-09T12:15:03.239358Z"
    },
    "id": "E3i8-_MhKHCo"
   },
   "outputs": [],
   "source": [
    "with torch.no_grad():\n",
    "    for word, idx in word2idx.items():\n",
    "        if word in word2vec:\n",
    "            model.embed.weight[idx] = torch.from_numpy(word2vec.get_vector(word))"
   ]
  },
  {
   "cell_type": "code",
   "execution_count": 140,
   "metadata": {
    "ExecuteTime": {
     "end_time": "2021-10-09T12:29:47.466269Z",
     "start_time": "2021-10-09T12:16:55.437219Z"
    },
    "id": "jKIdxoobKLas"
   },
   "outputs": [
    {
     "data": {
      "application/vnd.jupyter.widget-view+json": {
       "model_id": "",
       "version_major": 2,
       "version_minor": 0
      },
      "text/plain": [
       "  0%|          | 0/1 [00:00<?, ?it/s]"
      ]
     },
     "metadata": {},
     "output_type": "display_data"
    },
    {
     "data": {
      "application/vnd.jupyter.widget-view+json": {
       "model_id": "",
       "version_major": 2,
       "version_minor": 0
      },
      "text/plain": [
       "  0%|          | 0/3750 [00:00<?, ?it/s]"
      ]
     },
     "metadata": {},
     "output_type": "display_data"
    },
    {
     "name": "stdout",
     "output_type": "stream",
     "text": [
      "Valid Loss: 0.46335598826408386, accuracy: 0.8368420600891113\n"
     ]
    }
   ],
   "source": [
    "training_freeze(model, criterion, optimizer, num_epochs, loaders, max_grad_norm)"
   ]
  },
  {
   "cell_type": "markdown",
   "metadata": {},
   "source": [
    "Обычно с заморозкой качество получается лучше, но не в этот раз "
   ]
  },
  {
   "cell_type": "markdown",
   "metadata": {
    "id": "_JDRH3TkK6VS"
   },
   "source": [
    "Эмбеддинги можно дообучать для того, чтобы разные по смыслу слова, но встречающиеся вместе часто, имели схожие эмбеддинги"
   ]
  }
 ],
 "metadata": {
  "accelerator": "GPU",
  "colab": {
   "collapsed_sections": [],
   "name": "seminar_cnn and rnn",
   "private_outputs": true,
   "provenance": []
  },
  "kernelspec": {
   "display_name": "Python 3 (ipykernel)",
   "language": "python",
   "name": "python3"
  },
  "language_info": {
   "codemirror_mode": {
    "name": "ipython",
    "version": 3
   },
   "file_extension": ".py",
   "mimetype": "text/x-python",
   "name": "python",
   "nbconvert_exporter": "python",
   "pygments_lexer": "ipython3",
   "version": "3.8.5"
  },
  "toc": {
   "base_numbering": 1,
   "nav_menu": {},
   "number_sections": true,
   "sideBar": true,
   "skip_h1_title": false,
   "title_cell": "Table of Contents",
   "title_sidebar": "Contents",
   "toc_cell": false,
   "toc_position": {},
   "toc_section_display": true,
   "toc_window_display": false
  }
 },
 "nbformat": 4,
 "nbformat_minor": 1
}
