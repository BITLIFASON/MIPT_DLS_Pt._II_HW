{
 "cells": [
  {
   "cell_type": "markdown",
   "metadata": {
    "id": "zahzrEdRCaxV"
   },
   "source": [
    "### Spoken Language Processing\n",
    "В этом задании предлагается обучить классификатор возраста по голосу (пример с тем, как это можно сделать для пола см. в семинаре)\n",
    "\n",
    "Подумайте, как лучше предсказывать возраст (может быть разбить на группы?) и какой лосс использовать\n",
    "\n",
    "P.S. не забудьте, что если вы работаете в Colab, то вы можете поменять среду выполнения на GPU/TPU!\n",
    "\n",
    "Вопросы по заданию/материалам: @Nestyme"
   ]
  },
  {
   "cell_type": "code",
   "execution_count": 1,
   "metadata": {
    "ExecuteTime": {
     "end_time": "2021-12-04T12:37:28.068341Z",
     "start_time": "2021-12-04T12:37:28.056338Z"
    },
    "id": "3wSgHrbiEc8x"
   },
   "outputs": [],
   "source": [
    "!pip3 install timit-utils==0.9.0\n",
    "!pip3 install torchaudio\n",
    "! wget https://ndownloader.figshare.com/files/10256148 \n",
    "!unzip -q 10256148"
   ]
  },
  {
   "cell_type": "code",
   "execution_count": 2,
   "metadata": {
    "ExecuteTime": {
     "end_time": "2021-12-04T12:37:36.229394Z",
     "start_time": "2021-12-04T12:37:31.778146Z"
    },
    "id": "u0bovLZ0Ew5V"
   },
   "outputs": [],
   "source": [
    "import timit_utils as tu\n",
    "import os\n",
    "import librosa\n",
    "import numpy as np\n",
    "from tqdm import tqdm\n",
    "\n",
    "import torch\n",
    "import torch.nn as nn\n",
    "from torch.optim import Adam\n",
    "import torch.nn.functional as F\n",
    "\n",
    "import matplotlib.pyplot as plt\n",
    "from sklearn.metrics import accuracy_score\n",
    "\n",
    "import IPython\n",
    "_TIMIT_PATH = 'data/lisa/data/timit/raw/TIMIT'"
   ]
  },
  {
   "cell_type": "markdown",
   "metadata": {
    "id": "Gd-qfC9-DdnJ"
   },
   "source": [
    "## Задание 1\n",
    "Загрузите данные для обучения. Для этого:\n",
    "1. Скачайте датасет TIMIT (см семинар)\n",
    "2. Соберите пары \"голос\"  — \"класс возраста\" также, как на семинаре собирались пары \"голос\"  — \"пол\". Аудиодорожки сконвертируйте в мелспектрограммы при помощи `torchaudio либо` `librosa`\n",
    "\n",
    "P.S. вы можете использовать свою реализацию, а можете предложенную (см следующие ячейки)"
   ]
  },
  {
   "cell_type": "code",
   "execution_count": 3,
   "metadata": {
    "ExecuteTime": {
     "end_time": "2021-12-04T12:37:36.276394Z",
     "start_time": "2021-12-04T12:37:36.234394Z"
    },
    "id": "DhPyP4T5DdAD"
   },
   "outputs": [],
   "source": [
    "import timit_utils as tu\n",
    "import os\n",
    "import librosa\n",
    "import numpy as np\n",
    "from tqdm import tqdm\n",
    "import torch as t\n",
    "\n",
    "\n",
    "class timit_dataloader:\n",
    "    def __init__(self, data_path=_TIMIT_PATH, train_mode=True, age_mode=True):\n",
    "        self.doc_file_path = os.path.join(data_path, 'DOC', 'SPKRINFO.TXT')\n",
    "        self.corpus = tu.Corpus(data_path)\n",
    "        with open(self.doc_file_path) as f:\n",
    "            self.id_age_dict = dict(\n",
    "                [(tmp.split(' ')[0], 86 - int(tmp.split('  ')[5].split('/')[-1].replace('??', '50'))) \\\n",
    "                 for tmp in f.readlines()[39:]])\n",
    "        if train_mode:\n",
    "            self.trainset = self.create_dataset('train', age_mode=age_mode)\n",
    "            self.validset = self.create_dataset('valid', age_mode=age_mode)\n",
    "        self.testset = self.create_dataset('test', age_mode=age_mode)\n",
    "\n",
    "    def return_age(self, id):\n",
    "        return self.id_age_dict[id]\n",
    "\n",
    "    def return_data(self):\n",
    "        return self.trainset, self.validset, self.testset\n",
    "\n",
    "    def return_test(self):\n",
    "        return self.testset\n",
    "\n",
    "    def create_dataset(self, mode, age_mode=False):\n",
    "        global people\n",
    "        assert mode in ['train', 'valid', 'test']\n",
    "        if mode == 'train':\n",
    "            people = [self.corpus.train.person_by_index(i) for i in range(350)]\n",
    "        if mode == 'valid':\n",
    "            people = [self.corpus.train.person_by_index(i) for i in range(350, 400)]\n",
    "        if mode == 'test':\n",
    "            people = [self.corpus.test.person_by_index(i) for i in range(150)]\n",
    "        spectrograms_and_targets = []\n",
    "        for person in tqdm(people):\n",
    "            try:\n",
    "                target = self.return_age(person.name)\n",
    "                for i in range(len(person.sentences)):\n",
    "                    spectrograms_and_targets.append(\n",
    "                        self.preprocess_sample(person.sentence_by_index(i).raw_audio, target, age_mode=True))\n",
    "            except:\n",
    "                print(person.name, target)\n",
    "\n",
    "        X, y = map(np.stack, zip(*spectrograms_and_targets))\n",
    "        X = X.transpose([0, 2, 1])  # to [batch, time, channels]\n",
    "        return X, y\n",
    "\n",
    "    @staticmethod\n",
    "    def spec_to_image(spec, eps=1e-6):\n",
    "        mean = spec.mean()\n",
    "        std = spec.std()\n",
    "        spec_norm = (spec - mean) / (std + eps)\n",
    "        spec_min, spec_max = spec_norm.min(), spec_norm.max()\n",
    "        spec_scaled = 255 * (spec_norm - spec_min) / (spec_max - spec_min)\n",
    "        spec_scaled = spec_scaled.astype(np.uint8)\n",
    "        return spec_scaled\n",
    "\n",
    "    @staticmethod\n",
    "    def clasterize_by_age(age):\n",
    "        if age <=25:\n",
    "            return 0\n",
    "        if 25 < age <= 40:\n",
    "            return 1\n",
    "        if  age > 40:\n",
    "            return 2\n",
    "\n",
    "    def preprocess_sample(self, amplitudes, target, age_mode=False, sr=16000, max_length=150):\n",
    "        spectrogram = librosa.feature.melspectrogram(amplitudes, sr=sr, n_mels=128, fmin=1, fmax=8192)[:, :max_length]\n",
    "        spectrogram = np.pad(spectrogram, [[0, 0], [0, max(0, max_length - spectrogram.shape[1])]], mode='constant')\n",
    "        target = self.clasterize_by_age(target)\n",
    "        return self.spec_to_image(np.float32(spectrogram)), target\n",
    "\n",
    "    def preprocess_sample_inference(self, amplitudes, sr=16000, max_length=150, device='cpu'):\n",
    "        spectrogram = librosa.feature.melspectrogram(amplitudes, sr=sr, n_mels=128, fmin=1, fmax=8192)[:, :max_length]\n",
    "        spectrogram = np.pad(spectrogram, [[0, 0], [0, max(0, max_length - spectrogram.shape[1])]], mode='constant')\n",
    "        spectrogram = np.array([self.spec_to_image(np.float32(spectrogram))]).transpose([0, 2, 1])\n",
    "\n",
    "        return t.tensor(spectrogram, dtype=t.float).to(device, non_blocking=True)\n",
    "\n",
    "\n",
    "class dataloader:\n",
    "    def __init__(self, spectrograms, targets):\n",
    "        self.data = list(zip(spectrograms, targets))\n",
    "\n",
    "    def next_batch(self, batch_size, device):\n",
    "        indices = np.random.randint(len(self.data), size=batch_size)\n",
    "\n",
    "        input = [self.data[i] for i in indices]\n",
    "\n",
    "        source = [line[0] for line in input]\n",
    "        target = [line[1] for line in input]\n",
    "\n",
    "        return self.torch_batch(source, target, device)\n",
    "\n",
    "    @staticmethod\n",
    "    def torch_batch(source, target, device):\n",
    "        return tuple(\n",
    "            [\n",
    "                t.tensor(val, dtype=t.float).to(device, non_blocking=True)\n",
    "                for val in [source, target]\n",
    "            ]\n",
    "        )\n",
    "\n",
    "    @staticmethod\n",
    "    def padd_sequences(lines, pad_token=0):\n",
    "        lengths = [len(line) for line in lines]\n",
    "        max_length = max(lengths)\n",
    "\n",
    "        return np.array(\n",
    "            [\n",
    "                line + [pad_token] * (max_length - lengths[i])\n",
    "                for i, line in enumerate(lines)\n",
    "            ]\n",
    "        )"
   ]
  },
  {
   "cell_type": "markdown",
   "metadata": {
    "id": "Tpz1Q5VOFxLM"
   },
   "source": [
    "Простая сверточная сеть, ее можно дотюнить или поменять по желанию"
   ]
  },
  {
   "cell_type": "code",
   "execution_count": 4,
   "metadata": {
    "ExecuteTime": {
     "end_time": "2021-12-04T12:37:36.292399Z",
     "start_time": "2021-12-04T12:37:36.278390Z"
    }
   },
   "outputs": [],
   "source": [
    "import torch\n",
    "import torch.nn as nn\n",
    "import torch.nn.functional as F\n",
    "\n",
    "\n",
    "class Model(nn.Module):\n",
    "    def __init__(self, window_sizes=(3, 4, 5)):\n",
    "        super(Model, self).__init__()\n",
    "\n",
    "        self.convs = nn.ModuleList([\n",
    "            nn.Conv2d(1, 128, [window_size, 128], padding=(window_size - 1, 0))\n",
    "            for window_size in window_sizes\n",
    "        ])\n",
    "        self.bn = nn.BatchNorm1d(128)\n",
    "        self.fc = nn.Linear(128 * len(window_sizes), 3)\n",
    "        self.drop = nn.Dropout(p=0.15)\n",
    "        \n",
    "    def forward(self, x):\n",
    "        x = torch.unsqueeze(x, 1)  # [B, C, T, E] Add a channel dim.\n",
    "        xs = []\n",
    "        for conv in self.convs:\n",
    "            x2 = F.relu(conv(x))  # [B, F, T, 1]\n",
    "            x2 = torch.squeeze(x2, -1)  # [B, F, T]\n",
    "            x2 = F.max_pool1d(x2, x2.size(2))  # [B, F, 1]\n",
    "            xs.append(x2)\n",
    "        x = torch.cat(xs, 2)  # [B, F, window]\n",
    "        x = self.bn(x)\n",
    "        x = self.drop(x)\n",
    "        # FC\n",
    "        x = x.view(x.size(0), -1)  # [B, F * window]\n",
    "        logits = self.fc(x)  # [B, class]\n",
    "        probs = torch.sigmoid(logits) #.view(-1)\n",
    "        return probs"
   ]
  },
  {
   "cell_type": "code",
   "execution_count": 5,
   "metadata": {
    "ExecuteTime": {
     "end_time": "2021-12-04T12:38:38.184390Z",
     "start_time": "2021-12-04T12:37:36.295392Z"
    },
    "id": "sLUggB9iF6s_"
   },
   "outputs": [
    {
     "name": "stderr",
     "output_type": "stream",
     "text": [
      "100%|█████████████████████████████████████████████████████████████████████████████████████████████████████████████████████████████████████████████████████████████████████████████████████████████████████████████████████████████████████| 350/350 [00:38<00:00,  9.08it/s]\n",
      "100%|███████████████████████████████████████████████████████████████████████████████████████████████████████████████████████████████████████████████████████████████████████████████████████████████████████████████████████████████████████| 50/50 [00:05<00:00,  8.54it/s]\n",
      "100%|█████████████████████████████████████████████████████████████████████████████████████████████████████████████████████████████████████████████████████████████████████████████████████████████████████████████████████████████████████| 150/150 [00:17<00:00,  8.64it/s]\n"
     ]
    }
   ],
   "source": [
    "_timit_dataloader = timit_dataloader()\n",
    "train, valid, test = _timit_dataloader.return_data()\n",
    "\n",
    "trainset = dataloader(*train)\n",
    "validset = dataloader(*valid)\n",
    "testset = dataloader(*test)"
   ]
  },
  {
   "cell_type": "markdown",
   "metadata": {
    "id": "ScCZEMvXHkmz"
   },
   "source": [
    "# Задание 2\n",
    "1. Обучите свой классификатор категории возраста\n",
    "2. Попробуйте улучшить результат. Можно попробовать усложнить сетку, подвигать границы категорий, поискать новые данные, что угодно, кроме учиться на тесте :)\n",
    "3. Какой подход оказался самым эффективным? Как думаете, почему?\n",
    "4. Как считаете, где можно было бы применить такой классификатор в качестве вспомогательной задачи?\n"
   ]
  },
  {
   "cell_type": "code",
   "execution_count": 6,
   "metadata": {
    "ExecuteTime": {
     "end_time": "2021-12-04T12:38:38.247390Z",
     "start_time": "2021-12-04T12:38:38.186391Z"
    }
   },
   "outputs": [
    {
     "name": "stdout",
     "output_type": "stream",
     "text": [
      "using cuda mode\n"
     ]
    }
   ],
   "source": [
    "device = torch.device('cuda' if torch.cuda.is_available() else 'cpu')\n",
    "print(f'using {device} mode')\n",
    "patience = 500\n",
    "best_loss = 1000\n",
    "cnt = 0"
   ]
  },
  {
   "cell_type": "code",
   "execution_count": 7,
   "metadata": {
    "ExecuteTime": {
     "end_time": "2021-12-04T12:38:38.486390Z",
     "start_time": "2021-12-04T12:38:38.250391Z"
    }
   },
   "outputs": [
    {
     "name": "stderr",
     "output_type": "stream",
     "text": [
      "C:\\Users\\BIT\\.conda\\envs\\deep\\lib\\site-packages\\torch\\cuda\\memory.py:231: FutureWarning: torch.cuda.reset_max_memory_allocated now calls torch.cuda.reset_peak_memory_stats, which resets /all/ peak memory stats.\n",
      "  warnings.warn(\n"
     ]
    }
   ],
   "source": [
    "import gc\n",
    "gc.collect()\n",
    "torch.cuda.empty_cache()\n",
    "torch.cuda.reset_max_memory_allocated()\n",
    "torch.cuda.synchronize()"
   ]
  },
  {
   "cell_type": "code",
   "execution_count": 8,
   "metadata": {
    "ExecuteTime": {
     "end_time": "2021-12-04T12:38:40.034391Z",
     "start_time": "2021-12-04T12:38:38.488390Z"
    }
   },
   "outputs": [
    {
     "data": {
      "text/plain": [
       "Model(\n",
       "  (convs): ModuleList(\n",
       "    (0): Conv2d(1, 128, kernel_size=[3, 128], stride=(1, 1), padding=(2, 0))\n",
       "    (1): Conv2d(1, 128, kernel_size=[4, 128], stride=(1, 1), padding=(3, 0))\n",
       "    (2): Conv2d(1, 128, kernel_size=[5, 128], stride=(1, 1), padding=(4, 0))\n",
       "  )\n",
       "  (bn): BatchNorm1d(128, eps=1e-05, momentum=0.1, affine=True, track_running_stats=True)\n",
       "  (fc): Linear(in_features=384, out_features=3, bias=True)\n",
       "  (drop): Dropout(p=0.15, inplace=False)\n",
       ")"
      ]
     },
     "execution_count": 8,
     "metadata": {},
     "output_type": "execute_result"
    }
   ],
   "source": [
    "model = Model()\n",
    "if device == torch.device('cuda'):\n",
    "    model.cuda()\n",
    "else:\n",
    "    model.cpu()\n",
    "model.train()"
   ]
  },
  {
   "cell_type": "code",
   "execution_count": 9,
   "metadata": {
    "ExecuteTime": {
     "end_time": "2021-12-04T12:38:40.050391Z",
     "start_time": "2021-12-04T12:38:40.036391Z"
    }
   },
   "outputs": [],
   "source": [
    "BATCH_SIZE = 64\n",
    "\n",
    "optimizer = Adam(\n",
    "    [p for p in model.parameters() if p.requires_grad], betas=(0.9, 0.999), lr=0.005 , eps=1e-5\n",
    ")\n",
    "\n",
    "def model_loss(probs, targets):\n",
    "        return nn.CrossEntropyLoss(weight=1-torch.Tensor([0.24,0.63,0.13]).cuda())(probs, targets)\n",
    "        #return nn.CrossEntropyLoss()(probs, targets)"
   ]
  },
  {
   "cell_type": "code",
   "execution_count": 10,
   "metadata": {
    "ExecuteTime": {
     "end_time": "2021-12-04T12:41:48.099389Z",
     "start_time": "2021-12-04T12:38:40.054393Z"
    }
   },
   "outputs": [
    {
     "data": {
      "image/png": "[encoded data removed]",
      "text/plain": [
       "<Figure size 1152x432 with 3 Axes>"
      ]
     },
     "metadata": {
      "needs_background": "light"
     },
     "output_type": "display_data"
    },
    {
     "name": "stdout",
     "output_type": "stream",
     "text": [
      "training finished\n"
     ]
    }
   ],
   "source": [
    "from IPython.display import clear_output\n",
    "import math\n",
    "\n",
    "min_loss = np.inf\n",
    "min_acc = np.inf\n",
    "\n",
    "train_loss = []\n",
    "train_history = []\n",
    "train_acc = []\n",
    "valid_acc = []\n",
    "valid_history = []\n",
    "\n",
    "model.train()\n",
    "\n",
    "for i in range(1500):\n",
    "\n",
    "    optimizer.zero_grad()\n",
    "\n",
    "    input, target = trainset.next_batch(BATCH_SIZE, device=device)\n",
    "    out = model(input)\n",
    "    loss = model_loss(out, target.long())\n",
    "    loss.backward()\n",
    "    optimizer.step()\n",
    "\n",
    "    if i % 50 == 0:\n",
    "        model.eval()\n",
    "\n",
    "        with torch.no_grad():\n",
    "            optimizer.zero_grad()\n",
    "\n",
    "            input, target = validset.next_batch(BATCH_SIZE, device=device)\n",
    "            out = model(input)\n",
    "            valid_loss = model_loss(out, target.long())\n",
    "            out, target = out.cpu().detach().numpy(), target.cpu().detach().numpy()\n",
    "            out = np.argmax(out,axis=1)\n",
    "            val_acc = accuracy_score(target,out)\n",
    "            valid_acc.append(val_acc)\n",
    "            valid_history.append(valid_loss.item())\n",
    "            print(f'accuracy_score:{val_acc}')\n",
    "            print(\"i {}, valid {}\".format(i, valid_loss.item()))\n",
    "            print(\"_________\")\n",
    "    \n",
    "        model.train()\n",
    "\n",
    "        fig, ax = plt.subplots(nrows=1, ncols=3, figsize=(16, 6))\n",
    "        clear_output(True)\n",
    "        if train_history is not None:\n",
    "            ax[0].plot(train_history, label='train history')\n",
    "            ax[0].set_xlabel('Epoch')\n",
    "            ax[0].set_title('Train loss')\n",
    "            ax[0].legend()\n",
    "        if valid_history is not None:\n",
    "            ax[1].plot(valid_history, label='valid history')\n",
    "            ax[1].legend()\n",
    "            ax[1].set_xlabel('Epoch')\n",
    "            ax[1].set_title('Valid loss')\n",
    "        if valid_acc is not None:\n",
    "            ax[2].plot(valid_acc, label='valid accuracy')\n",
    "            ax[2].legend()\n",
    "            ax[2].set_xlabel('Epoch')\n",
    "            ax[2].set_title('Valid accuracy')\n",
    "        plt.legend()\n",
    "        plt.show()\n",
    "    train_history.append(loss.item())\n",
    "\n",
    "    if i % 50 == 0 and best_loss > valid_loss.item():\n",
    "        best_loss = valid_loss.item()\n",
    "        cnt = 0\n",
    "    else:\n",
    "        cnt += 1\n",
    "\n",
    "    if cnt > patience:\n",
    "        break\n",
    "print('training finished')"
   ]
  },
  {
   "cell_type": "code",
   "execution_count": 11,
   "metadata": {
    "ExecuteTime": {
     "end_time": "2021-12-04T12:41:55.005389Z",
     "start_time": "2021-12-04T12:41:48.101391Z"
    }
   },
   "outputs": [
    {
     "name": "stdout",
     "output_type": "stream",
     "text": [
      "accuracy_score:0.515625\n",
      "_________\n",
      "accuracy_score:0.34375\n",
      "_________\n",
      "accuracy_score:0.4375\n",
      "_________\n",
      "accuracy_score:0.515625\n",
      "_________\n",
      "accuracy_score:0.296875\n",
      "_________\n",
      "accuracy_score:0.34375\n",
      "_________\n",
      "accuracy_score:0.5\n",
      "_________\n",
      "accuracy_score:0.4375\n",
      "_________\n",
      "accuracy_score:0.375\n",
      "_________\n",
      "accuracy_score:0.40625\n",
      "_________\n",
      "accuracy_score:0.5\n",
      "_________\n",
      "accuracy_score:0.59375\n",
      "_________\n",
      "accuracy_score:0.46875\n",
      "_________\n",
      "accuracy_score:0.3125\n",
      "_________\n",
      "accuracy_score:0.40625\n",
      "_________\n",
      "accuracy_score:0.40625\n",
      "_________\n",
      "accuracy_score:0.40625\n",
      "_________\n",
      "accuracy_score:0.359375\n",
      "_________\n",
      "accuracy_score:0.421875\n",
      "_________\n",
      "accuracy_score:0.453125\n",
      "_________\n",
      "accuracy_score:0.453125\n",
      "_________\n",
      "accuracy_score:0.4375\n",
      "_________\n",
      "accuracy_score:0.484375\n",
      "_________\n",
      "accuracy_score:0.453125\n",
      "_________\n",
      "accuracy_score:0.578125\n",
      "_________\n",
      "accuracy_score:0.484375\n",
      "_________\n",
      "accuracy_score:0.46875\n",
      "_________\n",
      "accuracy_score:0.34375\n",
      "_________\n",
      "accuracy_score:0.515625\n",
      "_________\n",
      "accuracy_score:0.5\n",
      "_________\n",
      "testing finished\n"
     ]
    }
   ],
   "source": [
    "model.eval()\n",
    "for i in range(30):\n",
    "\n",
    "    with torch.no_grad():\n",
    "        optimizer.zero_grad()\n",
    "\n",
    "        input, target = testset.next_batch(BATCH_SIZE, device=device)\n",
    "        out = model(input)\n",
    "        test_loss = model_loss(out, target.long())\n",
    "        out, target = out.cpu().detach().numpy(), target.cpu().detach().numpy()\n",
    "        out = np.argmax(out,axis=1)\n",
    "        print(f'accuracy_score:{accuracy_score(out, target)}')\n",
    "        print(\"_________\")\n",
    "print('testing finished')"
   ]
  },
  {
   "cell_type": "markdown",
   "metadata": {},
   "source": [
    "# Выводы:\n",
    "\n",
    "1) Постарался обучить свой классификатор возраста по голосу, разделив людей на группы (до 25, от 25 до 40, после 40).\n",
    "\n",
    "2) Усложнил семинарскую сеть со свёртками с различными kernel_size (3,4,5) и оптимизатором Adam с lr=0.005, добавив BatchNorm, Dropout c p=0.15 и линейный слой в конец модели для классификации на 3 класса; взял CE loss с применением весов (0.24,0.63,0.13), из-за выхода модели в 3 класса и уменьшения негативного влияния дисбаланса классов. Количество итераций взял 1500 с предварительным выходом и batch_size = 64. Результат получился немного лучше константного предсказания, по большей части, как мне кажется, из-за примитивности предобработки и слабой модели (касательно использования различных идей). Также пытался двигать границы для уменьшения дисбаланса, но из-за малых различий в голосах модель не могла обучиться; пытался использовать Factorized-TDNN, добавив линейный слой в конец, но сеть плохо обучалась.\n",
    "\n",
    "3) Добавление BatchNorm'а оказался самым эффективным подходом, то есть результат сильно улучшился и проблем с переобучением на самый распространённый класс стало меньшe, из-за того что линейная модель (линейный слой) лучше работает с нормированными данными; также возможно неплохое улучшение результата могут дать новые данные и последующий подбор границ с наиболее различающимися голосами.\n",
    "\n",
    "4) В голосовом помощнике, например, чтобы модель понимала пользуется ли ей ребёнок, молодой человек или старик, с помощью данной информации можно отфильтровывать ответы, которые обычно являются неподходящими для данной категории, и таким образом делать более хорошие рекомендации. Также с помощью данного классификатора какая-либо компания, могла бы используя голос человека, пока он разговаривает с автоматом, определить какие её продукты могли бы быть ему предположительно нужны, после чего сообщать данную информацию оператору (например, компания-маркетплейс)."
   ]
  }
 ],
 "metadata": {
  "colab": {
   "collapsed_sections": [],
   "name": "homework.ipynb",
   "provenance": []
  },
  "kernelspec": {
   "display_name": "Python 3 (ipykernel)",
   "language": "python",
   "name": "python3"
  },
  "language_info": {
   "codemirror_mode": {
    "name": "ipython",
    "version": 3
   },
   "file_extension": ".py",
   "mimetype": "text/x-python",
   "name": "python",
   "nbconvert_exporter": "python",
   "pygments_lexer": "ipython3",
   "version": "3.8.5"
  },
  "toc": {
   "base_numbering": 1,
   "nav_menu": {},
   "number_sections": false,
   "sideBar": false,
   "skip_h1_title": false,
   "title_cell": "Table of Contents",
   "title_sidebar": "Contents",
   "toc_cell": false,
   "toc_position": {},
   "toc_section_display": true,
   "toc_window_display": false
  }
 },
 "nbformat": 4,
 "nbformat_minor": 1
}
